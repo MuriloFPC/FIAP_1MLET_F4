{
 "cells": [
  {
   "cell_type": "code",
   "id": "initial_id",
   "metadata": {
    "collapsed": true,
    "ExecuteTime": {
     "end_time": "2024-11-16T02:44:31.515701Z",
     "start_time": "2024-11-16T02:44:31.510750Z"
    }
   },
   "source": [
    "import logging\n",
    "import yfinance as yf\n",
    "import numpy as np\n",
    "import matplotlib.pyplot as plt\n",
    "import pandas as pd\n",
    "from sklearn.preprocessing import MinMaxScaler\n",
    "from Utils.utils import GetEnvStocks\n",
    "from datetime import datetime, timedelta\n",
    "from keras.models import Sequential\n",
    "from keras.layers import Dense\n",
    "from keras.layers import LSTM\n",
    "from keras.layers import Dropout\n",
    "from keras.layers import Input\n",
    "from sklearn.metrics import mean_absolute_error, mean_squared_error, mean_absolute_percentage_error\n",
    "import matplotlib.dates as mdates\n"
   ],
   "outputs": [],
   "execution_count": 99
  },
  {
   "metadata": {
    "ExecuteTime": {
     "end_time": "2024-11-16T01:47:01.155454Z",
     "start_time": "2024-11-16T01:47:01.151452Z"
    }
   },
   "cell_type": "code",
   "source": [
    "def GetTrainingAndTestSet(stocks):\n",
    "    print('Getting training and test set')\n",
    "    stocksAjusted = stocks + '.SA'\n",
    "    if ' ' in stocks:\n",
    "        stocksAjusted = ' '.join([stock + '.SA' for stock in stocks])\n",
    "\n",
    "    last_week_date = datetime.now() - timedelta(weeks=1)\n",
    "    dataset_train = yf.download(stocksAjusted, start='2000-01-01', end=last_week_date.strftime('%Y-%m-%d'))\n",
    "    dataset_test = yf.download(stocksAjusted, start=last_week_date.strftime('%Y-%m-%d'), end=datetime.now().strftime('%Y-%m-%d'))\n",
    "    print('Training and test set retrieved')\n",
    "    return dataset_train, dataset_test"
   ],
   "id": "2380158caf6e90fc",
   "outputs": [],
   "execution_count": 10
  },
  {
   "metadata": {
    "ExecuteTime": {
     "end_time": "2024-11-16T01:45:02.011575Z",
     "start_time": "2024-11-16T01:45:02.008004Z"
    }
   },
   "cell_type": "code",
   "source": [
    "def CreateXYtrain():\n",
    "    X_train = []\n",
    "    y_train = []\n",
    "    for i in range(60, len(training_set_scaled)):\n",
    "        X_train.append(training_set_scaled[i - 60:i, 0])\n",
    "        y_train.append(training_set_scaled[i, 0])\n",
    "    return np.array(X_train), np.array(y_train)\n"
   ],
   "id": "e6fb44cfdd22e5bf",
   "outputs": [],
   "execution_count": 3
  },
  {
   "metadata": {
    "ExecuteTime": {
     "end_time": "2024-11-16T01:45:02.868318Z",
     "start_time": "2024-11-16T01:45:02.863303Z"
    }
   },
   "cell_type": "code",
   "source": [
    "def CreateRegressor(train_data):\n",
    "    regressor = Sequential()\n",
    "    regressor.add(Input(shape=(train_data.shape[1], 1)))\n",
    "\n",
    "    # Add the LSTM layer and Dropout regularisation\n",
    "    regressor.add(LSTM(units=50, return_sequences=True))\n",
    "    regressor.add(Dropout(0.2))\n",
    "    regressor.add(LSTM(units=50, return_sequences=True))\n",
    "    regressor.add(Dropout(0.2))\n",
    "    regressor.add(LSTM(units=50, return_sequences=True))\n",
    "    regressor.add(Dropout(0.2))\n",
    "    regressor.add(LSTM(units=50))\n",
    "    regressor.add(Dropout(0.2))\n",
    "    regressor.add(Dense(units=1))\n",
    "    regressor.compile(optimizer='adam', loss='mean_squared_error')\n",
    "    return regressor"
   ],
   "id": "dcd23ca89ed96c93",
   "outputs": [],
   "execution_count": 4
  },
  {
   "metadata": {
    "ExecuteTime": {
     "end_time": "2024-11-16T01:45:02.876480Z",
     "start_time": "2024-11-16T01:45:02.873479Z"
    }
   },
   "cell_type": "code",
   "source": [
    "def SaveModel(regressor, stock):\n",
    "    regressor.save(f'Models/{stock}.keras')\n",
    "    print(f'Model for stock {stock} saved')"
   ],
   "id": "4516984a0b5cb0f0",
   "outputs": [],
   "execution_count": 5
  },
  {
   "metadata": {
    "ExecuteTime": {
     "end_time": "2024-11-16T02:41:29.370803Z",
     "start_time": "2024-11-16T02:41:29.365806Z"
    }
   },
   "cell_type": "code",
   "source": [
    "def CreateTestPredictions(dataset_train, dataset_test):\n",
    "        dataset_total = pd.concat(\n",
    "            [pd.DataFrame(dataset_train), pd.DataFrame(dataset_test)], axis=0)\n",
    "        inputs = dataset_total[len(dataset_total) - len(dataset_test) - 60:].values\n",
    "        inputs = inputs.reshape(-1, 1)\n",
    "        inputs = sc.transform(inputs)\n",
    "        X_test = []\n",
    "        for i in range(60, 60 + len(dataset_test)):\n",
    "            X_test.append(inputs[i - 60:i, 0])\n",
    "        print([len(e) for e in X_test])\n",
    "        X_test = np.array(X_test)\n",
    "        X_test = np.reshape(X_test, (X_test.shape[0], X_test.shape[1], 1))\n",
    "        predicted_stock_price = regressor.predict(X_test)\n",
    "        return sc.inverse_transform(predicted_stock_price)"
   ],
   "id": "23c4fbcee03fe856",
   "outputs": [],
   "execution_count": 87
  },
  {
   "metadata": {
    "ExecuteTime": {
     "end_time": "2024-11-16T02:46:33.679406Z",
     "start_time": "2024-11-16T02:46:33.674381Z"
    }
   },
   "cell_type": "code",
   "source": [
    "def CreatePlot(real_stock_price, predicted_stock_price, stock, dates):\n",
    "    # Convert dates to datetime objects if necessary\n",
    "    dates = pd.to_datetime(dates)\n",
    "\n",
    "    plt.figure(figsize=(10, 6))\n",
    "    plt.plot(dates, real_stock_price, color='red', label=f'{stock} Stock Price')\n",
    "    plt.plot(dates, predicted_stock_price, color='blue', label=f'{stock} Price Prediction')\n",
    "    plt.title(f'{stock} Price Prediction')\n",
    "    plt.xlabel('Time')\n",
    "    plt.ylabel(f'{stock} Stock Price')\n",
    "    plt.legend()\n",
    "\n",
    "    # Format the dates on the x-axis\n",
    "    plt.gca().xaxis.set_major_formatter(mdates.DateFormatter('%d/%m/%Y'))\n",
    "    plt.gca().xaxis.set_major_locator(mdates.DayLocator())\n",
    "    plt.gcf().autofmt_xdate()  # Rotate date labels\n",
    "\n",
    "    plt.savefig(f'../Logs/{stock}.png')\n",
    "    plt.show()"
   ],
   "id": "1209aa792415f1e6",
   "outputs": [],
   "execution_count": 107
  },
  {
   "metadata": {
    "ExecuteTime": {
     "end_time": "2024-11-16T02:38:09.438291Z",
     "start_time": "2024-11-16T02:38:09.434291Z"
    }
   },
   "cell_type": "code",
   "source": [
    "def EvaluateModel(real_stock_price, predicted_stock_price):\n",
    "        mae = mean_absolute_error(real_stock_price, predicted_stock_price)\n",
    "\n",
    "        # Calculando RMSE\n",
    "        rmse = np.sqrt(mean_squared_error(real_stock_price, predicted_stock_price))\n",
    "\n",
    "        # Calculando MAPE\n",
    "        mape = mean_absolute_percentage_error(real_stock_price, predicted_stock_price)\n",
    "        print(f'MAE: {mae}')\n",
    "        print(f'RMSE: {rmse}')\n",
    "        print(f'MAPE: {mape}')"
   ],
   "id": "331190c321793d67",
   "outputs": [],
   "execution_count": 80
  },
  {
   "metadata": {},
   "cell_type": "code",
   "outputs": [],
   "execution_count": null,
   "source": "",
   "id": "e456f58f6dc8e3c4"
  },
  {
   "metadata": {
    "ExecuteTime": {
     "end_time": "2024-11-16T02:41:50.434093Z",
     "start_time": "2024-11-16T02:41:50.337457Z"
    }
   },
   "cell_type": "code",
   "source": [
    "\n",
    "sc = MinMaxScaler(feature_range=(0, 1))\n",
    "stock = 'ITUB4'\n",
    "datasets_train, datasets_test = GetTrainingAndTestSet(stock)\n",
    "\n",
    "print(f'Training model for stock {stock}')\n",
    "dataset_train = datasets_train['Close'][f'{stock}.SA'].values.reshape(-1, 1)\n",
    "dataset_test = datasets_test['Close'][f'{stock}.SA'].values.reshape(-1, 1)\n",
    "test_dates = datasets_test['Close'][f'{stock}.SA'].keys().to_list()"
   ],
   "id": "6f18fe5c724a8b76",
   "outputs": [
    {
     "name": "stderr",
     "output_type": "stream",
     "text": [
      "[*********************100%***********************]  1 of 1 completed\n",
      "[*********************100%***********************]  1 of 1 completed"
     ]
    },
    {
     "name": "stdout",
     "output_type": "stream",
     "text": [
      "Getting training and test set\n",
      "Training and test set retrieved\n",
      "Training model for stock ITUB4\n"
     ]
    },
    {
     "name": "stderr",
     "output_type": "stream",
     "text": [
      "\n"
     ]
    }
   ],
   "execution_count": 89
  },
  {
   "metadata": {
    "ExecuteTime": {
     "end_time": "2024-11-16T02:42:00.389278Z",
     "start_time": "2024-11-16T02:42:00.386011Z"
    }
   },
   "cell_type": "code",
   "source": "test_dates",
   "id": "7557c562f60d08c9",
   "outputs": [
    {
     "data": {
      "text/plain": [
       "[Timestamp('2024-11-08 00:00:00+0000', tz='UTC'),\n",
       " Timestamp('2024-11-11 00:00:00+0000', tz='UTC'),\n",
       " Timestamp('2024-11-12 00:00:00+0000', tz='UTC'),\n",
       " Timestamp('2024-11-13 00:00:00+0000', tz='UTC'),\n",
       " Timestamp('2024-11-14 00:00:00+0000', tz='UTC')]"
      ]
     },
     "execution_count": 91,
     "metadata": {},
     "output_type": "execute_result"
    }
   ],
   "execution_count": 91
  },
  {
   "metadata": {
    "ExecuteTime": {
     "end_time": "2024-11-16T02:42:36.166341Z",
     "start_time": "2024-11-16T02:42:36.162919Z"
    }
   },
   "cell_type": "code",
   "source": "training_set_scaled = sc.fit_transform(dataset_train)",
   "id": "e6e1eb5cc227b427",
   "outputs": [],
   "execution_count": 93
  },
  {
   "metadata": {
    "ExecuteTime": {
     "end_time": "2024-11-16T01:56:02.553134Z",
     "start_time": "2024-11-16T01:47:13.507761Z"
    }
   },
   "cell_type": "code",
   "outputs": [
    {
     "name": "stdout",
     "output_type": "stream",
     "text": [
      "Epoch 1/100\n",
      "\u001B[1m186/186\u001B[0m \u001B[32m━━━━━━━━━━━━━━━━━━━━\u001B[0m\u001B[37m\u001B[0m \u001B[1m9s\u001B[0m 26ms/step - loss: 0.0280\n",
      "Epoch 2/100\n",
      "\u001B[1m186/186\u001B[0m \u001B[32m━━━━━━━━━━━━━━━━━━━━\u001B[0m\u001B[37m\u001B[0m \u001B[1m5s\u001B[0m 26ms/step - loss: 0.0033\n",
      "Epoch 3/100\n",
      "\u001B[1m186/186\u001B[0m \u001B[32m━━━━━━━━━━━━━━━━━━━━\u001B[0m\u001B[37m\u001B[0m \u001B[1m5s\u001B[0m 25ms/step - loss: 0.0027\n",
      "Epoch 4/100\n",
      "\u001B[1m186/186\u001B[0m \u001B[32m━━━━━━━━━━━━━━━━━━━━\u001B[0m\u001B[37m\u001B[0m \u001B[1m5s\u001B[0m 25ms/step - loss: 0.0024\n",
      "Epoch 5/100\n",
      "\u001B[1m186/186\u001B[0m \u001B[32m━━━━━━━━━━━━━━━━━━━━\u001B[0m\u001B[37m\u001B[0m \u001B[1m5s\u001B[0m 26ms/step - loss: 0.0022\n",
      "Epoch 6/100\n",
      "\u001B[1m186/186\u001B[0m \u001B[32m━━━━━━━━━━━━━━━━━━━━\u001B[0m\u001B[37m\u001B[0m \u001B[1m5s\u001B[0m 26ms/step - loss: 0.0024\n",
      "Epoch 7/100\n",
      "\u001B[1m186/186\u001B[0m \u001B[32m━━━━━━━━━━━━━━━━━━━━\u001B[0m\u001B[37m\u001B[0m \u001B[1m5s\u001B[0m 25ms/step - loss: 0.0019\n",
      "Epoch 8/100\n",
      "\u001B[1m186/186\u001B[0m \u001B[32m━━━━━━━━━━━━━━━━━━━━\u001B[0m\u001B[37m\u001B[0m \u001B[1m5s\u001B[0m 26ms/step - loss: 0.0019\n",
      "Epoch 9/100\n",
      "\u001B[1m186/186\u001B[0m \u001B[32m━━━━━━━━━━━━━━━━━━━━\u001B[0m\u001B[37m\u001B[0m \u001B[1m5s\u001B[0m 26ms/step - loss: 0.0018\n",
      "Epoch 10/100\n",
      "\u001B[1m186/186\u001B[0m \u001B[32m━━━━━━━━━━━━━━━━━━━━\u001B[0m\u001B[37m\u001B[0m \u001B[1m5s\u001B[0m 27ms/step - loss: 0.0017\n",
      "Epoch 11/100\n",
      "\u001B[1m186/186\u001B[0m \u001B[32m━━━━━━━━━━━━━━━━━━━━\u001B[0m\u001B[37m\u001B[0m \u001B[1m5s\u001B[0m 29ms/step - loss: 0.0015\n",
      "Epoch 12/100\n",
      "\u001B[1m186/186\u001B[0m \u001B[32m━━━━━━━━━━━━━━━━━━━━\u001B[0m\u001B[37m\u001B[0m \u001B[1m5s\u001B[0m 29ms/step - loss: 0.0014\n",
      "Epoch 13/100\n",
      "\u001B[1m186/186\u001B[0m \u001B[32m━━━━━━━━━━━━━━━━━━━━\u001B[0m\u001B[37m\u001B[0m \u001B[1m6s\u001B[0m 30ms/step - loss: 0.0014\n",
      "Epoch 14/100\n",
      "\u001B[1m186/186\u001B[0m \u001B[32m━━━━━━━━━━━━━━━━━━━━\u001B[0m\u001B[37m\u001B[0m \u001B[1m5s\u001B[0m 28ms/step - loss: 0.0013\n",
      "Epoch 15/100\n",
      "\u001B[1m186/186\u001B[0m \u001B[32m━━━━━━━━━━━━━━━━━━━━\u001B[0m\u001B[37m\u001B[0m \u001B[1m6s\u001B[0m 31ms/step - loss: 0.0013\n",
      "Epoch 16/100\n",
      "\u001B[1m186/186\u001B[0m \u001B[32m━━━━━━━━━━━━━━━━━━━━\u001B[0m\u001B[37m\u001B[0m \u001B[1m6s\u001B[0m 32ms/step - loss: 0.0012\n",
      "Epoch 17/100\n",
      "\u001B[1m186/186\u001B[0m \u001B[32m━━━━━━━━━━━━━━━━━━━━\u001B[0m\u001B[37m\u001B[0m \u001B[1m6s\u001B[0m 31ms/step - loss: 0.0012\n",
      "Epoch 18/100\n",
      "\u001B[1m186/186\u001B[0m \u001B[32m━━━━━━━━━━━━━━━━━━━━\u001B[0m\u001B[37m\u001B[0m \u001B[1m6s\u001B[0m 30ms/step - loss: 0.0012\n",
      "Epoch 19/100\n",
      "\u001B[1m186/186\u001B[0m \u001B[32m━━━━━━━━━━━━━━━━━━━━\u001B[0m\u001B[37m\u001B[0m \u001B[1m6s\u001B[0m 32ms/step - loss: 0.0011\n",
      "Epoch 20/100\n",
      "\u001B[1m186/186\u001B[0m \u001B[32m━━━━━━━━━━━━━━━━━━━━\u001B[0m\u001B[37m\u001B[0m \u001B[1m6s\u001B[0m 30ms/step - loss: 0.0011\n",
      "Epoch 21/100\n",
      "\u001B[1m186/186\u001B[0m \u001B[32m━━━━━━━━━━━━━━━━━━━━\u001B[0m\u001B[37m\u001B[0m \u001B[1m6s\u001B[0m 31ms/step - loss: 0.0010\n",
      "Epoch 22/100\n",
      "\u001B[1m186/186\u001B[0m \u001B[32m━━━━━━━━━━━━━━━━━━━━\u001B[0m\u001B[37m\u001B[0m \u001B[1m6s\u001B[0m 31ms/step - loss: 0.0011\n",
      "Epoch 23/100\n",
      "\u001B[1m186/186\u001B[0m \u001B[32m━━━━━━━━━━━━━━━━━━━━\u001B[0m\u001B[37m\u001B[0m \u001B[1m14s\u001B[0m 28ms/step - loss: 0.0011\n",
      "Epoch 24/100\n",
      "\u001B[1m186/186\u001B[0m \u001B[32m━━━━━━━━━━━━━━━━━━━━\u001B[0m\u001B[37m\u001B[0m \u001B[1m5s\u001B[0m 27ms/step - loss: 9.9615e-04\n",
      "Epoch 25/100\n",
      "\u001B[1m186/186\u001B[0m \u001B[32m━━━━━━━━━━━━━━━━━━━━\u001B[0m\u001B[37m\u001B[0m \u001B[1m5s\u001B[0m 26ms/step - loss: 9.7845e-04\n",
      "Epoch 26/100\n",
      "\u001B[1m186/186\u001B[0m \u001B[32m━━━━━━━━━━━━━━━━━━━━\u001B[0m\u001B[37m\u001B[0m \u001B[1m5s\u001B[0m 27ms/step - loss: 9.8646e-04\n",
      "Epoch 27/100\n",
      "\u001B[1m186/186\u001B[0m \u001B[32m━━━━━━━━━━━━━━━━━━━━\u001B[0m\u001B[37m\u001B[0m \u001B[1m5s\u001B[0m 29ms/step - loss: 0.0010\n",
      "Epoch 28/100\n",
      "\u001B[1m186/186\u001B[0m \u001B[32m━━━━━━━━━━━━━━━━━━━━\u001B[0m\u001B[37m\u001B[0m \u001B[1m5s\u001B[0m 28ms/step - loss: 0.0010\n",
      "Epoch 29/100\n",
      "\u001B[1m186/186\u001B[0m \u001B[32m━━━━━━━━━━━━━━━━━━━━\u001B[0m\u001B[37m\u001B[0m \u001B[1m5s\u001B[0m 28ms/step - loss: 8.3812e-04\n",
      "Epoch 30/100\n",
      "\u001B[1m186/186\u001B[0m \u001B[32m━━━━━━━━━━━━━━━━━━━━\u001B[0m\u001B[37m\u001B[0m \u001B[1m5s\u001B[0m 28ms/step - loss: 9.0720e-04\n",
      "Epoch 31/100\n",
      "\u001B[1m186/186\u001B[0m \u001B[32m━━━━━━━━━━━━━━━━━━━━\u001B[0m\u001B[37m\u001B[0m \u001B[1m5s\u001B[0m 28ms/step - loss: 9.1493e-04\n",
      "Epoch 32/100\n",
      "\u001B[1m186/186\u001B[0m \u001B[32m━━━━━━━━━━━━━━━━━━━━\u001B[0m\u001B[37m\u001B[0m \u001B[1m5s\u001B[0m 28ms/step - loss: 8.8866e-04\n",
      "Epoch 33/100\n",
      "\u001B[1m186/186\u001B[0m \u001B[32m━━━━━━━━━━━━━━━━━━━━\u001B[0m\u001B[37m\u001B[0m \u001B[1m5s\u001B[0m 28ms/step - loss: 8.8209e-04\n",
      "Epoch 34/100\n",
      "\u001B[1m186/186\u001B[0m \u001B[32m━━━━━━━━━━━━━━━━━━━━\u001B[0m\u001B[37m\u001B[0m \u001B[1m5s\u001B[0m 29ms/step - loss: 8.8357e-04\n",
      "Epoch 35/100\n",
      "\u001B[1m186/186\u001B[0m \u001B[32m━━━━━━━━━━━━━━━━━━━━\u001B[0m\u001B[37m\u001B[0m \u001B[1m5s\u001B[0m 28ms/step - loss: 8.7859e-04\n",
      "Epoch 36/100\n",
      "\u001B[1m186/186\u001B[0m \u001B[32m━━━━━━━━━━━━━━━━━━━━\u001B[0m\u001B[37m\u001B[0m \u001B[1m5s\u001B[0m 28ms/step - loss: 8.0987e-04\n",
      "Epoch 37/100\n",
      "\u001B[1m186/186\u001B[0m \u001B[32m━━━━━━━━━━━━━━━━━━━━\u001B[0m\u001B[37m\u001B[0m \u001B[1m5s\u001B[0m 28ms/step - loss: 8.3799e-04\n",
      "Epoch 38/100\n",
      "\u001B[1m186/186\u001B[0m \u001B[32m━━━━━━━━━━━━━━━━━━━━\u001B[0m\u001B[37m\u001B[0m \u001B[1m5s\u001B[0m 27ms/step - loss: 8.1078e-04\n",
      "Epoch 39/100\n",
      "\u001B[1m186/186\u001B[0m \u001B[32m━━━━━━━━━━━━━━━━━━━━\u001B[0m\u001B[37m\u001B[0m \u001B[1m5s\u001B[0m 27ms/step - loss: 8.2242e-04\n",
      "Epoch 40/100\n",
      "\u001B[1m186/186\u001B[0m \u001B[32m━━━━━━━━━━━━━━━━━━━━\u001B[0m\u001B[37m\u001B[0m \u001B[1m5s\u001B[0m 28ms/step - loss: 8.0693e-04\n",
      "Epoch 41/100\n",
      "\u001B[1m186/186\u001B[0m \u001B[32m━━━━━━━━━━━━━━━━━━━━\u001B[0m\u001B[37m\u001B[0m \u001B[1m5s\u001B[0m 28ms/step - loss: 8.4266e-04\n",
      "Epoch 42/100\n",
      "\u001B[1m186/186\u001B[0m \u001B[32m━━━━━━━━━━━━━━━━━━━━\u001B[0m\u001B[37m\u001B[0m \u001B[1m5s\u001B[0m 29ms/step - loss: 7.4554e-04\n",
      "Epoch 43/100\n",
      "\u001B[1m186/186\u001B[0m \u001B[32m━━━━━━━━━━━━━━━━━━━━\u001B[0m\u001B[37m\u001B[0m \u001B[1m5s\u001B[0m 28ms/step - loss: 8.2300e-04\n",
      "Epoch 44/100\n",
      "\u001B[1m186/186\u001B[0m \u001B[32m━━━━━━━━━━━━━━━━━━━━\u001B[0m\u001B[37m\u001B[0m \u001B[1m5s\u001B[0m 28ms/step - loss: 7.7027e-04\n",
      "Epoch 45/100\n",
      "\u001B[1m186/186\u001B[0m \u001B[32m━━━━━━━━━━━━━━━━━━━━\u001B[0m\u001B[37m\u001B[0m \u001B[1m5s\u001B[0m 28ms/step - loss: 7.7070e-04\n",
      "Epoch 46/100\n",
      "\u001B[1m186/186\u001B[0m \u001B[32m━━━━━━━━━━━━━━━━━━━━\u001B[0m\u001B[37m\u001B[0m \u001B[1m5s\u001B[0m 28ms/step - loss: 7.4786e-04\n",
      "Epoch 47/100\n",
      "\u001B[1m186/186\u001B[0m \u001B[32m━━━━━━━━━━━━━━━━━━━━\u001B[0m\u001B[37m\u001B[0m \u001B[1m5s\u001B[0m 28ms/step - loss: 8.5481e-04\n",
      "Epoch 48/100\n",
      "\u001B[1m186/186\u001B[0m \u001B[32m━━━━━━━━━━━━━━━━━━━━\u001B[0m\u001B[37m\u001B[0m \u001B[1m5s\u001B[0m 27ms/step - loss: 7.5345e-04\n",
      "Epoch 49/100\n",
      "\u001B[1m186/186\u001B[0m \u001B[32m━━━━━━━━━━━━━━━━━━━━\u001B[0m\u001B[37m\u001B[0m \u001B[1m5s\u001B[0m 27ms/step - loss: 7.8924e-04\n",
      "Epoch 50/100\n",
      "\u001B[1m186/186\u001B[0m \u001B[32m━━━━━━━━━━━━━━━━━━━━\u001B[0m\u001B[37m\u001B[0m \u001B[1m5s\u001B[0m 28ms/step - loss: 7.6270e-04\n",
      "Epoch 51/100\n",
      "\u001B[1m186/186\u001B[0m \u001B[32m━━━━━━━━━━━━━━━━━━━━\u001B[0m\u001B[37m\u001B[0m \u001B[1m5s\u001B[0m 28ms/step - loss: 6.8777e-04\n",
      "Epoch 52/100\n",
      "\u001B[1m186/186\u001B[0m \u001B[32m━━━━━━━━━━━━━━━━━━━━\u001B[0m\u001B[37m\u001B[0m \u001B[1m5s\u001B[0m 28ms/step - loss: 7.1162e-04\n",
      "Epoch 53/100\n",
      "\u001B[1m186/186\u001B[0m \u001B[32m━━━━━━━━━━━━━━━━━━━━\u001B[0m\u001B[37m\u001B[0m \u001B[1m5s\u001B[0m 28ms/step - loss: 8.1404e-04\n",
      "Epoch 54/100\n",
      "\u001B[1m186/186\u001B[0m \u001B[32m━━━━━━━━━━━━━━━━━━━━\u001B[0m\u001B[37m\u001B[0m \u001B[1m5s\u001B[0m 28ms/step - loss: 7.5880e-04\n",
      "Epoch 55/100\n",
      "\u001B[1m186/186\u001B[0m \u001B[32m━━━━━━━━━━━━━━━━━━━━\u001B[0m\u001B[37m\u001B[0m \u001B[1m5s\u001B[0m 28ms/step - loss: 7.8719e-04\n",
      "Epoch 56/100\n",
      "\u001B[1m186/186\u001B[0m \u001B[32m━━━━━━━━━━━━━━━━━━━━\u001B[0m\u001B[37m\u001B[0m \u001B[1m5s\u001B[0m 28ms/step - loss: 6.5631e-04\n",
      "Epoch 57/100\n",
      "\u001B[1m186/186\u001B[0m \u001B[32m━━━━━━━━━━━━━━━━━━━━\u001B[0m\u001B[37m\u001B[0m \u001B[1m5s\u001B[0m 28ms/step - loss: 6.9518e-04\n",
      "Epoch 58/100\n",
      "\u001B[1m186/186\u001B[0m \u001B[32m━━━━━━━━━━━━━━━━━━━━\u001B[0m\u001B[37m\u001B[0m \u001B[1m5s\u001B[0m 28ms/step - loss: 7.9764e-04\n",
      "Epoch 59/100\n",
      "\u001B[1m186/186\u001B[0m \u001B[32m━━━━━━━━━━━━━━━━━━━━\u001B[0m\u001B[37m\u001B[0m \u001B[1m5s\u001B[0m 28ms/step - loss: 6.8372e-04\n",
      "Epoch 60/100\n",
      "\u001B[1m186/186\u001B[0m \u001B[32m━━━━━━━━━━━━━━━━━━━━\u001B[0m\u001B[37m\u001B[0m \u001B[1m5s\u001B[0m 28ms/step - loss: 7.0578e-04\n",
      "Epoch 61/100\n",
      "\u001B[1m186/186\u001B[0m \u001B[32m━━━━━━━━━━━━━━━━━━━━\u001B[0m\u001B[37m\u001B[0m \u001B[1m5s\u001B[0m 28ms/step - loss: 6.9872e-04\n",
      "Epoch 62/100\n",
      "\u001B[1m186/186\u001B[0m \u001B[32m━━━━━━━━━━━━━━━━━━━━\u001B[0m\u001B[37m\u001B[0m \u001B[1m5s\u001B[0m 28ms/step - loss: 6.8526e-04\n",
      "Epoch 63/100\n",
      "\u001B[1m186/186\u001B[0m \u001B[32m━━━━━━━━━━━━━━━━━━━━\u001B[0m\u001B[37m\u001B[0m \u001B[1m5s\u001B[0m 28ms/step - loss: 6.4543e-04\n",
      "Epoch 64/100\n",
      "\u001B[1m186/186\u001B[0m \u001B[32m━━━━━━━━━━━━━━━━━━━━\u001B[0m\u001B[37m\u001B[0m \u001B[1m5s\u001B[0m 29ms/step - loss: 7.2710e-04\n",
      "Epoch 65/100\n",
      "\u001B[1m186/186\u001B[0m \u001B[32m━━━━━━━━━━━━━━━━━━━━\u001B[0m\u001B[37m\u001B[0m \u001B[1m5s\u001B[0m 27ms/step - loss: 6.5274e-04\n",
      "Epoch 66/100\n",
      "\u001B[1m186/186\u001B[0m \u001B[32m━━━━━━━━━━━━━━━━━━━━\u001B[0m\u001B[37m\u001B[0m \u001B[1m5s\u001B[0m 27ms/step - loss: 6.7683e-04\n",
      "Epoch 67/100\n",
      "\u001B[1m186/186\u001B[0m \u001B[32m━━━━━━━━━━━━━━━━━━━━\u001B[0m\u001B[37m\u001B[0m \u001B[1m5s\u001B[0m 27ms/step - loss: 6.8701e-04\n",
      "Epoch 68/100\n",
      "\u001B[1m186/186\u001B[0m \u001B[32m━━━━━━━━━━━━━━━━━━━━\u001B[0m\u001B[37m\u001B[0m \u001B[1m5s\u001B[0m 27ms/step - loss: 7.1009e-04\n",
      "Epoch 69/100\n",
      "\u001B[1m186/186\u001B[0m \u001B[32m━━━━━━━━━━━━━━━━━━━━\u001B[0m\u001B[37m\u001B[0m \u001B[1m5s\u001B[0m 27ms/step - loss: 7.0681e-04\n",
      "Epoch 70/100\n",
      "\u001B[1m186/186\u001B[0m \u001B[32m━━━━━━━━━━━━━━━━━━━━\u001B[0m\u001B[37m\u001B[0m \u001B[1m5s\u001B[0m 28ms/step - loss: 6.1270e-04\n",
      "Epoch 71/100\n",
      "\u001B[1m186/186\u001B[0m \u001B[32m━━━━━━━━━━━━━━━━━━━━\u001B[0m\u001B[37m\u001B[0m \u001B[1m5s\u001B[0m 27ms/step - loss: 6.6179e-04\n",
      "Epoch 72/100\n",
      "\u001B[1m186/186\u001B[0m \u001B[32m━━━━━━━━━━━━━━━━━━━━\u001B[0m\u001B[37m\u001B[0m \u001B[1m5s\u001B[0m 28ms/step - loss: 6.3105e-04\n",
      "Epoch 73/100\n",
      "\u001B[1m186/186\u001B[0m \u001B[32m━━━━━━━━━━━━━━━━━━━━\u001B[0m\u001B[37m\u001B[0m \u001B[1m5s\u001B[0m 27ms/step - loss: 6.1218e-04\n",
      "Epoch 74/100\n",
      "\u001B[1m186/186\u001B[0m \u001B[32m━━━━━━━━━━━━━━━━━━━━\u001B[0m\u001B[37m\u001B[0m \u001B[1m5s\u001B[0m 27ms/step - loss: 6.6591e-04\n",
      "Epoch 75/100\n",
      "\u001B[1m186/186\u001B[0m \u001B[32m━━━━━━━━━━━━━━━━━━━━\u001B[0m\u001B[37m\u001B[0m \u001B[1m5s\u001B[0m 27ms/step - loss: 6.4719e-04\n",
      "Epoch 76/100\n",
      "\u001B[1m186/186\u001B[0m \u001B[32m━━━━━━━━━━━━━━━━━━━━\u001B[0m\u001B[37m\u001B[0m \u001B[1m5s\u001B[0m 27ms/step - loss: 7.1755e-04\n",
      "Epoch 77/100\n",
      "\u001B[1m186/186\u001B[0m \u001B[32m━━━━━━━━━━━━━━━━━━━━\u001B[0m\u001B[37m\u001B[0m \u001B[1m5s\u001B[0m 27ms/step - loss: 6.3640e-04\n",
      "Epoch 78/100\n",
      "\u001B[1m186/186\u001B[0m \u001B[32m━━━━━━━━━━━━━━━━━━━━\u001B[0m\u001B[37m\u001B[0m \u001B[1m5s\u001B[0m 27ms/step - loss: 7.3254e-04\n",
      "Epoch 79/100\n",
      "\u001B[1m186/186\u001B[0m \u001B[32m━━━━━━━━━━━━━━━━━━━━\u001B[0m\u001B[37m\u001B[0m \u001B[1m5s\u001B[0m 27ms/step - loss: 6.5897e-04\n",
      "Epoch 80/100\n",
      "\u001B[1m186/186\u001B[0m \u001B[32m━━━━━━━━━━━━━━━━━━━━\u001B[0m\u001B[37m\u001B[0m \u001B[1m5s\u001B[0m 27ms/step - loss: 6.6097e-04\n",
      "Epoch 81/100\n",
      "\u001B[1m186/186\u001B[0m \u001B[32m━━━━━━━━━━━━━━━━━━━━\u001B[0m\u001B[37m\u001B[0m \u001B[1m5s\u001B[0m 27ms/step - loss: 6.3868e-04\n",
      "Epoch 82/100\n",
      "\u001B[1m186/186\u001B[0m \u001B[32m━━━━━━━━━━━━━━━━━━━━\u001B[0m\u001B[37m\u001B[0m \u001B[1m5s\u001B[0m 27ms/step - loss: 5.9712e-04\n",
      "Epoch 83/100\n",
      "\u001B[1m186/186\u001B[0m \u001B[32m━━━━━━━━━━━━━━━━━━━━\u001B[0m\u001B[37m\u001B[0m \u001B[1m5s\u001B[0m 27ms/step - loss: 7.1391e-04\n",
      "Epoch 84/100\n",
      "\u001B[1m186/186\u001B[0m \u001B[32m━━━━━━━━━━━━━━━━━━━━\u001B[0m\u001B[37m\u001B[0m \u001B[1m5s\u001B[0m 27ms/step - loss: 5.9879e-04\n",
      "Epoch 85/100\n",
      "\u001B[1m186/186\u001B[0m \u001B[32m━━━━━━━━━━━━━━━━━━━━\u001B[0m\u001B[37m\u001B[0m \u001B[1m5s\u001B[0m 27ms/step - loss: 6.1680e-04\n",
      "Epoch 86/100\n",
      "\u001B[1m186/186\u001B[0m \u001B[32m━━━━━━━━━━━━━━━━━━━━\u001B[0m\u001B[37m\u001B[0m \u001B[1m5s\u001B[0m 27ms/step - loss: 6.3613e-04\n",
      "Epoch 87/100\n",
      "\u001B[1m186/186\u001B[0m \u001B[32m━━━━━━━━━━━━━━━━━━━━\u001B[0m\u001B[37m\u001B[0m \u001B[1m5s\u001B[0m 27ms/step - loss: 6.1569e-04\n",
      "Epoch 88/100\n",
      "\u001B[1m186/186\u001B[0m \u001B[32m━━━━━━━━━━━━━━━━━━━━\u001B[0m\u001B[37m\u001B[0m \u001B[1m5s\u001B[0m 27ms/step - loss: 6.0970e-04\n",
      "Epoch 89/100\n",
      "\u001B[1m186/186\u001B[0m \u001B[32m━━━━━━━━━━━━━━━━━━━━\u001B[0m\u001B[37m\u001B[0m \u001B[1m5s\u001B[0m 28ms/step - loss: 6.7176e-04\n",
      "Epoch 90/100\n",
      "\u001B[1m186/186\u001B[0m \u001B[32m━━━━━━━━━━━━━━━━━━━━\u001B[0m\u001B[37m\u001B[0m \u001B[1m5s\u001B[0m 27ms/step - loss: 5.8772e-04\n",
      "Epoch 91/100\n",
      "\u001B[1m186/186\u001B[0m \u001B[32m━━━━━━━━━━━━━━━━━━━━\u001B[0m\u001B[37m\u001B[0m \u001B[1m5s\u001B[0m 27ms/step - loss: 5.7595e-04\n",
      "Epoch 92/100\n",
      "\u001B[1m186/186\u001B[0m \u001B[32m━━━━━━━━━━━━━━━━━━━━\u001B[0m\u001B[37m\u001B[0m \u001B[1m5s\u001B[0m 27ms/step - loss: 6.4557e-04\n",
      "Epoch 93/100\n",
      "\u001B[1m186/186\u001B[0m \u001B[32m━━━━━━━━━━━━━━━━━━━━\u001B[0m\u001B[37m\u001B[0m \u001B[1m5s\u001B[0m 27ms/step - loss: 6.3964e-04\n",
      "Epoch 94/100\n",
      "\u001B[1m186/186\u001B[0m \u001B[32m━━━━━━━━━━━━━━━━━━━━\u001B[0m\u001B[37m\u001B[0m \u001B[1m5s\u001B[0m 27ms/step - loss: 6.5163e-04\n",
      "Epoch 95/100\n",
      "\u001B[1m186/186\u001B[0m \u001B[32m━━━━━━━━━━━━━━━━━━━━\u001B[0m\u001B[37m\u001B[0m \u001B[1m5s\u001B[0m 27ms/step - loss: 5.8307e-04\n",
      "Epoch 96/100\n",
      "\u001B[1m186/186\u001B[0m \u001B[32m━━━━━━━━━━━━━━━━━━━━\u001B[0m\u001B[37m\u001B[0m \u001B[1m5s\u001B[0m 27ms/step - loss: 6.1766e-04\n",
      "Epoch 97/100\n",
      "\u001B[1m186/186\u001B[0m \u001B[32m━━━━━━━━━━━━━━━━━━━━\u001B[0m\u001B[37m\u001B[0m \u001B[1m6s\u001B[0m 31ms/step - loss: 6.0381e-04\n",
      "Epoch 98/100\n",
      "\u001B[1m186/186\u001B[0m \u001B[32m━━━━━━━━━━━━━━━━━━━━\u001B[0m\u001B[37m\u001B[0m \u001B[1m5s\u001B[0m 27ms/step - loss: 6.1365e-04\n",
      "Epoch 99/100\n",
      "\u001B[1m186/186\u001B[0m \u001B[32m━━━━━━━━━━━━━━━━━━━━\u001B[0m\u001B[37m\u001B[0m \u001B[1m5s\u001B[0m 27ms/step - loss: 6.4683e-04\n",
      "Epoch 100/100\n",
      "\u001B[1m186/186\u001B[0m \u001B[32m━━━━━━━━━━━━━━━━━━━━\u001B[0m\u001B[37m\u001B[0m \u001B[1m5s\u001B[0m 28ms/step - loss: 5.8405e-04\n"
     ]
    },
    {
     "ename": "FileNotFoundError",
     "evalue": "[Errno 2] No such file or directory: 'Models/ITUB4.keras'",
     "output_type": "error",
     "traceback": [
      "\u001B[1;31m---------------------------------------------------------------------------\u001B[0m",
      "\u001B[1;31mFileNotFoundError\u001B[0m                         Traceback (most recent call last)",
      "Cell \u001B[1;32mIn[12], line 6\u001B[0m\n\u001B[0;32m      4\u001B[0m regressor \u001B[38;5;241m=\u001B[39m CreateRegressor(X_train)\n\u001B[0;32m      5\u001B[0m regressor\u001B[38;5;241m.\u001B[39mfit(X_train, y_train, epochs\u001B[38;5;241m=\u001B[39m\u001B[38;5;241m100\u001B[39m, batch_size\u001B[38;5;241m=\u001B[39m\u001B[38;5;241m32\u001B[39m)\n\u001B[1;32m----> 6\u001B[0m \u001B[43mSaveModel\u001B[49m\u001B[43m(\u001B[49m\u001B[43mregressor\u001B[49m\u001B[43m,\u001B[49m\u001B[43m \u001B[49m\u001B[43mstock\u001B[49m\u001B[43m)\u001B[49m\n",
      "Cell \u001B[1;32mIn[5], line 2\u001B[0m, in \u001B[0;36mSaveModel\u001B[1;34m(regressor, stock)\u001B[0m\n\u001B[0;32m      1\u001B[0m \u001B[38;5;28;01mdef\u001B[39;00m \u001B[38;5;21mSaveModel\u001B[39m(regressor, stock):\n\u001B[1;32m----> 2\u001B[0m     \u001B[43mregressor\u001B[49m\u001B[38;5;241;43m.\u001B[39;49m\u001B[43msave\u001B[49m\u001B[43m(\u001B[49m\u001B[38;5;124;43mf\u001B[39;49m\u001B[38;5;124;43m'\u001B[39;49m\u001B[38;5;124;43mModels/\u001B[39;49m\u001B[38;5;132;43;01m{\u001B[39;49;00m\u001B[43mstock\u001B[49m\u001B[38;5;132;43;01m}\u001B[39;49;00m\u001B[38;5;124;43m.keras\u001B[39;49m\u001B[38;5;124;43m'\u001B[39;49m\u001B[43m)\u001B[49m\n\u001B[0;32m      3\u001B[0m     \u001B[38;5;28mprint\u001B[39m(\u001B[38;5;124mf\u001B[39m\u001B[38;5;124m'\u001B[39m\u001B[38;5;124mModel for stock \u001B[39m\u001B[38;5;132;01m{\u001B[39;00mstock\u001B[38;5;132;01m}\u001B[39;00m\u001B[38;5;124m saved\u001B[39m\u001B[38;5;124m'\u001B[39m)\n",
      "File \u001B[1;32m~\\Repos\\FIAP\\MLET\\Fase4\\LSTM_StockPricePredict\\flaskProject\\venv\\Lib\\site-packages\\keras\\src\\utils\\traceback_utils.py:122\u001B[0m, in \u001B[0;36mfilter_traceback.<locals>.error_handler\u001B[1;34m(*args, **kwargs)\u001B[0m\n\u001B[0;32m    119\u001B[0m     filtered_tb \u001B[38;5;241m=\u001B[39m _process_traceback_frames(e\u001B[38;5;241m.\u001B[39m__traceback__)\n\u001B[0;32m    120\u001B[0m     \u001B[38;5;66;03m# To get the full stack trace, call:\u001B[39;00m\n\u001B[0;32m    121\u001B[0m     \u001B[38;5;66;03m# `keras.config.disable_traceback_filtering()`\u001B[39;00m\n\u001B[1;32m--> 122\u001B[0m     \u001B[38;5;28;01mraise\u001B[39;00m e\u001B[38;5;241m.\u001B[39mwith_traceback(filtered_tb) \u001B[38;5;28;01mfrom\u001B[39;00m \u001B[38;5;28;01mNone\u001B[39;00m\n\u001B[0;32m    123\u001B[0m \u001B[38;5;28;01mfinally\u001B[39;00m:\n\u001B[0;32m    124\u001B[0m     \u001B[38;5;28;01mdel\u001B[39;00m filtered_tb\n",
      "File \u001B[1;32m~\\Repos\\FIAP\\MLET\\Fase4\\LSTM_StockPricePredict\\flaskProject\\venv\\Lib\\site-packages\\keras\\src\\saving\\saving_lib.py:141\u001B[0m, in \u001B[0;36msave_model\u001B[1;34m(model, filepath, weights_format, zipped)\u001B[0m\n\u001B[0;32m    139\u001B[0m         f\u001B[38;5;241m.\u001B[39mwrite(zip_filepath\u001B[38;5;241m.\u001B[39mgetvalue())\n\u001B[0;32m    140\u001B[0m \u001B[38;5;28;01melse\u001B[39;00m:\n\u001B[1;32m--> 141\u001B[0m     \u001B[38;5;28;01mwith\u001B[39;00m \u001B[38;5;28;43mopen\u001B[39;49m\u001B[43m(\u001B[49m\u001B[43mfilepath\u001B[49m\u001B[43m,\u001B[49m\u001B[43m \u001B[49m\u001B[38;5;124;43m\"\u001B[39;49m\u001B[38;5;124;43mwb\u001B[39;49m\u001B[38;5;124;43m\"\u001B[39;49m\u001B[43m)\u001B[49m \u001B[38;5;28;01mas\u001B[39;00m f:\n\u001B[0;32m    142\u001B[0m         _save_model_to_fileobj(model, f, weights_format)\n",
      "\u001B[1;31mFileNotFoundError\u001B[0m: [Errno 2] No such file or directory: 'Models/ITUB4.keras'"
     ]
    }
   ],
   "execution_count": 12,
   "source": [
    "X_train, y_train = CreateXYtrain()\n",
    "X_train = np.reshape(X_train, (X_train.shape[0], X_train.shape[1], 1))\n",
    "regressor = CreateRegressor(X_train)\n",
    "regressor.fit(X_train, y_train, epochs=100, batch_size=32)\n",
    "#SaveModel(regressor, stock)"
   ],
   "id": "cd07a8681d92a9a0"
  },
  {
   "metadata": {
    "ExecuteTime": {
     "end_time": "2024-11-16T02:46:37.048922Z",
     "start_time": "2024-11-16T02:46:36.864076Z"
    }
   },
   "cell_type": "code",
   "source": [
    "print(f'Model for stock {stock} trained and saved')\n",
    "predictPrice = CreateTestPredictions(dataset_train, dataset_test)\n",
    "print(f'Predictions for stock {stock} created')\n",
    "CreatePlot(dataset_test,predictPrice ,stock, test_dates)\n",
    "print(f'Plot for stock {stock} created')\n",
    "EvaluateModel(dataset_test, predictPrice)\n",
    "print(f'Model for stock {stock} evaluated')\n",
    "print(f'Training model for stock {stock} finished')\n",
    "print('##################################################')\n",
    "print('End training model')"
   ],
   "id": "6593db4909bcb076",
   "outputs": [
    {
     "name": "stdout",
     "output_type": "stream",
     "text": [
      "Model for stock ITUB4 trained and saved\n",
      "[60, 60, 60, 60, 60]\n",
      "\u001B[1m1/1\u001B[0m \u001B[32m━━━━━━━━━━━━━━━━━━━━\u001B[0m\u001B[37m\u001B[0m \u001B[1m0s\u001B[0m 18ms/step\n",
      "Predictions for stock ITUB4 created\n"
     ]
    },
    {
     "data": {
      "text/plain": [
       "<Figure size 1000x600 with 1 Axes>"
      ],
      "image/png": "[encoded data removed]"
     },
     "metadata": {},
     "output_type": "display_data"
    },
    {
     "name": "stdout",
     "output_type": "stream",
     "text": [
      "Plot for stock ITUB4 created\n",
      "MAE: 0.365509033203125\n",
      "RMSE: 0.3925142219443432\n",
      "MAPE: 0.010520441935555857\n",
      "Model for stock ITUB4 evaluated\n",
      "Training model for stock ITUB4 finished\n",
      "##################################################\n",
      "End training model\n"
     ]
    }
   ],
   "execution_count": 108
  }
 ],
 "metadata": {
  "kernelspec": {
   "display_name": "Python 3",
   "language": "python",
   "name": "python3"
  },
  "language_info": {
   "codemirror_mode": {
    "name": "ipython",
    "version": 2
   },
   "file_extension": ".py",
   "mimetype": "text/x-python",
   "name": "python",
   "nbconvert_exporter": "python",
   "pygments_lexer": "ipython2",
   "version": "2.7.6"
  }
 },
 "nbformat": 4,
 "nbformat_minor": 5
}
