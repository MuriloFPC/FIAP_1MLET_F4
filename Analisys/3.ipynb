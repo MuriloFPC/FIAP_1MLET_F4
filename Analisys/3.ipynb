{
 "cells": [
  {
   "metadata": {},
   "cell_type": "markdown",
   "source": "# Recurrent Neural Network",
   "id": "8fce75239811757b"
  },
  {
   "metadata": {},
   "cell_type": "markdown",
   "source": "## Part 1 - Data Preprocessing",
   "id": "fbbb7b05be993fa8"
  },
  {
   "metadata": {},
   "cell_type": "markdown",
   "source": "### Importing the libraries",
   "id": "9909757874b0d8bf"
  },
  {
   "metadata": {
    "ExecuteTime": {
     "end_time": "2024-11-15T11:59:36.764823Z",
     "start_time": "2024-11-15T11:59:35.508846Z"
    }
   },
   "cell_type": "code",
   "source": [
    "import yfinance as yf\n",
    "\n",
    "# Baixando os dados históricos de uma ação brasileira (exemplo: Petrobras PETR3)\n",
    "ticker = 'PETR3.SA'\n",
    "petro = yf.Ticker(ticker)\n",
    "#print(petro)\n",
    "# Pegar todos os dados históricos\n",
    "print(petro.history(start='2023-11-01', end='2024-11-12'))\n",
    "#data = yf.download(ticker, start='2024-11-01', end='2024-11-12')\n",
    "\n",
    "# Visualizando as primeiras linhas dos dados\n",
    "#print(data.head())"
   ],
   "id": "ee60c4b3e332b89b",
   "outputs": [
    {
     "name": "stdout",
     "output_type": "stream",
     "text": [
      "                                Open       High        Low      Close  \\\n",
      "Date                                                                    \n",
      "2023-11-01 00:00:00-03:00  32.501366  33.134452  32.424369  32.749466   \n",
      "2023-11-03 00:00:00-03:00  33.356889  33.356889  32.552694  33.023232   \n",
      "2023-11-06 00:00:00-03:00  33.288444  33.510879  32.877793  32.937679   \n",
      "2023-11-07 00:00:00-03:00  32.501362  32.835016  31.936716  32.210484   \n",
      "2023-11-08 00:00:00-03:00  32.030825  32.065047  31.209522  31.449068   \n",
      "...                              ...        ...        ...        ...   \n",
      "2024-11-05 00:00:00-03:00  38.349998  38.459999  37.740002  38.150002   \n",
      "2024-11-06 00:00:00-03:00  37.830002  38.240002  37.619999  38.110001   \n",
      "2024-11-07 00:00:00-03:00  38.009998  38.820000  38.000000  38.380001   \n",
      "2024-11-08 00:00:00-03:00  38.500000  39.330002  38.459999  39.080002   \n",
      "2024-11-11 00:00:00-03:00  38.799999  39.279999  38.599998  39.139999   \n",
      "\n",
      "                             Volume  Dividends  Stock Splits  \n",
      "Date                                                          \n",
      "2023-11-01 00:00:00-03:00  13428200        0.0           0.0  \n",
      "2023-11-03 00:00:00-03:00   9668700        0.0           0.0  \n",
      "2023-11-06 00:00:00-03:00  10596200        0.0           0.0  \n",
      "2023-11-07 00:00:00-03:00  15189300        0.0           0.0  \n",
      "2023-11-08 00:00:00-03:00  11870400        0.0           0.0  \n",
      "...                             ...        ...           ...  \n",
      "2024-11-05 00:00:00-03:00   7774600        0.0           0.0  \n",
      "2024-11-06 00:00:00-03:00   7658400        0.0           0.0  \n",
      "2024-11-07 00:00:00-03:00  11429700        0.0           0.0  \n",
      "2024-11-08 00:00:00-03:00  13215800        0.0           0.0  \n",
      "2024-11-11 00:00:00-03:00   6025500        0.0           0.0  \n",
      "\n",
      "[259 rows x 7 columns]\n"
     ]
    }
   ],
   "execution_count": 1
  },
  {
   "metadata": {
    "ExecuteTime": {
     "end_time": "2024-11-15T16:46:41.003708Z",
     "start_time": "2024-11-15T16:46:34.202997Z"
    }
   },
   "cell_type": "code",
   "source": [
    "from datetime import datetime, timedelta\n",
    "\n",
    "last_week_date = datetime.now() - timedelta(weeks=1)\n",
    "dataset_train = yf.download('ITUB4.SA ITSA4.SA', start='2024-01-01', end=last_week_date.strftime('%Y-%m-%d'))\n",
    "dataset_train"
   ],
   "id": "5bca9238f479d8f0",
   "outputs": [
    {
     "name": "stderr",
     "output_type": "stream",
     "text": [
      "[*********************100%***********************]  2 of 2 completed\n"
     ]
    },
    {
     "data": {
      "text/plain": [
       "Price                      Adj Close               Close                High  \\\n",
       "Ticker                      ITSA4.SA   ITUB4.SA ITSA4.SA   ITUB4.SA ITSA4.SA   \n",
       "Date                                                                           \n",
       "2024-01-02 00:00:00+00:00   9.617081  31.571276    10.17  33.520000    10.32   \n",
       "2024-01-03 00:00:00+00:00   9.598168  31.222792    10.15  33.150002    10.25   \n",
       "2024-01-04 00:00:00+00:00   9.475236  31.015581    10.02  32.930000    10.18   \n",
       "2024-01-05 00:00:00+00:00   9.673819  31.740820    10.23  33.700001    10.29   \n",
       "2024-01-08 00:00:00+00:00   9.607624  31.401749    10.16  33.340000    10.25   \n",
       "...                              ...        ...      ...        ...      ...   \n",
       "2024-11-01 00:00:00+00:00  10.510000  34.810001    10.51  34.810001    10.64   \n",
       "2024-11-04 00:00:00+00:00  10.670000  35.279999    10.67  35.279999    10.74   \n",
       "2024-11-05 00:00:00+00:00  11.060000  36.340000    11.06  36.340000    11.10   \n",
       "2024-11-06 00:00:00+00:00  11.040000  36.169998    11.04  36.169998    11.07   \n",
       "2024-11-07 00:00:00+00:00  10.890000  35.639999    10.89  35.639999    11.11   \n",
       "\n",
       "Price                                     Low                Open             \\\n",
       "Ticker                      ITUB4.SA ITSA4.SA   ITUB4.SA ITSA4.SA   ITUB4.SA   \n",
       "Date                                                                           \n",
       "2024-01-02 00:00:00+00:00  33.889999    10.13  33.240002    10.31  33.889999   \n",
       "2024-01-03 00:00:00+00:00  33.770000    10.12  33.150002    10.15  33.509998   \n",
       "2024-01-04 00:00:00+00:00  33.230000     9.96  32.700001    10.15  33.150002   \n",
       "2024-01-05 00:00:00+00:00  33.700001    10.00  32.880001    10.02  32.910000   \n",
       "2024-01-08 00:00:00+00:00  33.669998    10.13  33.290001    10.23  33.520000   \n",
       "...                              ...      ...        ...      ...        ...   \n",
       "2024-11-01 00:00:00+00:00  35.299999    10.48  34.790001    10.63  35.000000   \n",
       "2024-11-04 00:00:00+00:00  35.540001    10.56  34.889999    10.60  35.130001   \n",
       "2024-11-05 00:00:00+00:00  36.650002    10.71  35.599998    10.74  35.700001   \n",
       "2024-11-06 00:00:00+00:00  36.430000    10.83  35.520000    10.93  35.869999   \n",
       "2024-11-07 00:00:00+00:00  36.480000    10.80  35.560001    10.97  36.130001   \n",
       "\n",
       "Price                        Volume            \n",
       "Ticker                     ITSA4.SA  ITUB4.SA  \n",
       "Date                                           \n",
       "2024-01-02 00:00:00+00:00  16813400  18948200  \n",
       "2024-01-03 00:00:00+00:00  18182000  18530900  \n",
       "2024-01-04 00:00:00+00:00  25078600  26585200  \n",
       "2024-01-05 00:00:00+00:00  27054600  27726400  \n",
       "2024-01-08 00:00:00+00:00  15826100  11810700  \n",
       "...                             ...       ...  \n",
       "2024-11-01 00:00:00+00:00  17743500  22751600  \n",
       "2024-11-04 00:00:00+00:00  21237800  20499900  \n",
       "2024-11-05 00:00:00+00:00  31460900  52524800  \n",
       "2024-11-06 00:00:00+00:00  21420700  38887000  \n",
       "2024-11-07 00:00:00+00:00  24367600  14842300  \n",
       "\n",
       "[218 rows x 12 columns]"
      ],
      "text/html": [
       "<div>\n",
       "<style scoped>\n",
       "    .dataframe tbody tr th:only-of-type {\n",
       "        vertical-align: middle;\n",
       "    }\n",
       "\n",
       "    .dataframe tbody tr th {\n",
       "        vertical-align: top;\n",
       "    }\n",
       "\n",
       "    .dataframe thead tr th {\n",
       "        text-align: left;\n",
       "    }\n",
       "\n",
       "    .dataframe thead tr:last-of-type th {\n",
       "        text-align: right;\n",
       "    }\n",
       "</style>\n",
       "<table border=\"1\" class=\"dataframe\">\n",
       "  <thead>\n",
       "    <tr>\n",
       "      <th>Price</th>\n",
       "      <th colspan=\"2\" halign=\"left\">Adj Close</th>\n",
       "      <th colspan=\"2\" halign=\"left\">Close</th>\n",
       "      <th colspan=\"2\" halign=\"left\">High</th>\n",
       "      <th colspan=\"2\" halign=\"left\">Low</th>\n",
       "      <th colspan=\"2\" halign=\"left\">Open</th>\n",
       "      <th colspan=\"2\" halign=\"left\">Volume</th>\n",
       "    </tr>\n",
       "    <tr>\n",
       "      <th>Ticker</th>\n",
       "      <th>ITSA4.SA</th>\n",
       "      <th>ITUB4.SA</th>\n",
       "      <th>ITSA4.SA</th>\n",
       "      <th>ITUB4.SA</th>\n",
       "      <th>ITSA4.SA</th>\n",
       "      <th>ITUB4.SA</th>\n",
       "      <th>ITSA4.SA</th>\n",
       "      <th>ITUB4.SA</th>\n",
       "      <th>ITSA4.SA</th>\n",
       "      <th>ITUB4.SA</th>\n",
       "      <th>ITSA4.SA</th>\n",
       "      <th>ITUB4.SA</th>\n",
       "    </tr>\n",
       "    <tr>\n",
       "      <th>Date</th>\n",
       "      <th></th>\n",
       "      <th></th>\n",
       "      <th></th>\n",
       "      <th></th>\n",
       "      <th></th>\n",
       "      <th></th>\n",
       "      <th></th>\n",
       "      <th></th>\n",
       "      <th></th>\n",
       "      <th></th>\n",
       "      <th></th>\n",
       "      <th></th>\n",
       "    </tr>\n",
       "  </thead>\n",
       "  <tbody>\n",
       "    <tr>\n",
       "      <th>2024-01-02 00:00:00+00:00</th>\n",
       "      <td>9.617081</td>\n",
       "      <td>31.571276</td>\n",
       "      <td>10.17</td>\n",
       "      <td>33.520000</td>\n",
       "      <td>10.32</td>\n",
       "      <td>33.889999</td>\n",
       "      <td>10.13</td>\n",
       "      <td>33.240002</td>\n",
       "      <td>10.31</td>\n",
       "      <td>33.889999</td>\n",
       "      <td>16813400</td>\n",
       "      <td>18948200</td>\n",
       "    </tr>\n",
       "    <tr>\n",
       "      <th>2024-01-03 00:00:00+00:00</th>\n",
       "      <td>9.598168</td>\n",
       "      <td>31.222792</td>\n",
       "      <td>10.15</td>\n",
       "      <td>33.150002</td>\n",
       "      <td>10.25</td>\n",
       "      <td>33.770000</td>\n",
       "      <td>10.12</td>\n",
       "      <td>33.150002</td>\n",
       "      <td>10.15</td>\n",
       "      <td>33.509998</td>\n",
       "      <td>18182000</td>\n",
       "      <td>18530900</td>\n",
       "    </tr>\n",
       "    <tr>\n",
       "      <th>2024-01-04 00:00:00+00:00</th>\n",
       "      <td>9.475236</td>\n",
       "      <td>31.015581</td>\n",
       "      <td>10.02</td>\n",
       "      <td>32.930000</td>\n",
       "      <td>10.18</td>\n",
       "      <td>33.230000</td>\n",
       "      <td>9.96</td>\n",
       "      <td>32.700001</td>\n",
       "      <td>10.15</td>\n",
       "      <td>33.150002</td>\n",
       "      <td>25078600</td>\n",
       "      <td>26585200</td>\n",
       "    </tr>\n",
       "    <tr>\n",
       "      <th>2024-01-05 00:00:00+00:00</th>\n",
       "      <td>9.673819</td>\n",
       "      <td>31.740820</td>\n",
       "      <td>10.23</td>\n",
       "      <td>33.700001</td>\n",
       "      <td>10.29</td>\n",
       "      <td>33.700001</td>\n",
       "      <td>10.00</td>\n",
       "      <td>32.880001</td>\n",
       "      <td>10.02</td>\n",
       "      <td>32.910000</td>\n",
       "      <td>27054600</td>\n",
       "      <td>27726400</td>\n",
       "    </tr>\n",
       "    <tr>\n",
       "      <th>2024-01-08 00:00:00+00:00</th>\n",
       "      <td>9.607624</td>\n",
       "      <td>31.401749</td>\n",
       "      <td>10.16</td>\n",
       "      <td>33.340000</td>\n",
       "      <td>10.25</td>\n",
       "      <td>33.669998</td>\n",
       "      <td>10.13</td>\n",
       "      <td>33.290001</td>\n",
       "      <td>10.23</td>\n",
       "      <td>33.520000</td>\n",
       "      <td>15826100</td>\n",
       "      <td>11810700</td>\n",
       "    </tr>\n",
       "    <tr>\n",
       "      <th>...</th>\n",
       "      <td>...</td>\n",
       "      <td>...</td>\n",
       "      <td>...</td>\n",
       "      <td>...</td>\n",
       "      <td>...</td>\n",
       "      <td>...</td>\n",
       "      <td>...</td>\n",
       "      <td>...</td>\n",
       "      <td>...</td>\n",
       "      <td>...</td>\n",
       "      <td>...</td>\n",
       "      <td>...</td>\n",
       "    </tr>\n",
       "    <tr>\n",
       "      <th>2024-11-01 00:00:00+00:00</th>\n",
       "      <td>10.510000</td>\n",
       "      <td>34.810001</td>\n",
       "      <td>10.51</td>\n",
       "      <td>34.810001</td>\n",
       "      <td>10.64</td>\n",
       "      <td>35.299999</td>\n",
       "      <td>10.48</td>\n",
       "      <td>34.790001</td>\n",
       "      <td>10.63</td>\n",
       "      <td>35.000000</td>\n",
       "      <td>17743500</td>\n",
       "      <td>22751600</td>\n",
       "    </tr>\n",
       "    <tr>\n",
       "      <th>2024-11-04 00:00:00+00:00</th>\n",
       "      <td>10.670000</td>\n",
       "      <td>35.279999</td>\n",
       "      <td>10.67</td>\n",
       "      <td>35.279999</td>\n",
       "      <td>10.74</td>\n",
       "      <td>35.540001</td>\n",
       "      <td>10.56</td>\n",
       "      <td>34.889999</td>\n",
       "      <td>10.60</td>\n",
       "      <td>35.130001</td>\n",
       "      <td>21237800</td>\n",
       "      <td>20499900</td>\n",
       "    </tr>\n",
       "    <tr>\n",
       "      <th>2024-11-05 00:00:00+00:00</th>\n",
       "      <td>11.060000</td>\n",
       "      <td>36.340000</td>\n",
       "      <td>11.06</td>\n",
       "      <td>36.340000</td>\n",
       "      <td>11.10</td>\n",
       "      <td>36.650002</td>\n",
       "      <td>10.71</td>\n",
       "      <td>35.599998</td>\n",
       "      <td>10.74</td>\n",
       "      <td>35.700001</td>\n",
       "      <td>31460900</td>\n",
       "      <td>52524800</td>\n",
       "    </tr>\n",
       "    <tr>\n",
       "      <th>2024-11-06 00:00:00+00:00</th>\n",
       "      <td>11.040000</td>\n",
       "      <td>36.169998</td>\n",
       "      <td>11.04</td>\n",
       "      <td>36.169998</td>\n",
       "      <td>11.07</td>\n",
       "      <td>36.430000</td>\n",
       "      <td>10.83</td>\n",
       "      <td>35.520000</td>\n",
       "      <td>10.93</td>\n",
       "      <td>35.869999</td>\n",
       "      <td>21420700</td>\n",
       "      <td>38887000</td>\n",
       "    </tr>\n",
       "    <tr>\n",
       "      <th>2024-11-07 00:00:00+00:00</th>\n",
       "      <td>10.890000</td>\n",
       "      <td>35.639999</td>\n",
       "      <td>10.89</td>\n",
       "      <td>35.639999</td>\n",
       "      <td>11.11</td>\n",
       "      <td>36.480000</td>\n",
       "      <td>10.80</td>\n",
       "      <td>35.560001</td>\n",
       "      <td>10.97</td>\n",
       "      <td>36.130001</td>\n",
       "      <td>24367600</td>\n",
       "      <td>14842300</td>\n",
       "    </tr>\n",
       "  </tbody>\n",
       "</table>\n",
       "<p>218 rows × 12 columns</p>\n",
       "</div>"
      ]
     },
     "execution_count": 41,
     "metadata": {},
     "output_type": "execute_result"
    }
   ],
   "execution_count": 41
  },
  {
   "metadata": {
    "id": "ZT1f24vHffuf",
    "executionInfo": {
     "status": "ok",
     "timestamp": 1727870778419,
     "user_tz": -240,
     "elapsed": 1419,
     "user": {
      "displayName": "Hadelin de Ponteves",
      "userId": "15047218817161520419"
     }
    },
    "ExecuteTime": {
     "end_time": "2024-11-15T11:59:37.120718Z",
     "start_time": "2024-11-15T11:59:36.845404Z"
    }
   },
   "cell_type": "code",
   "source": [
    "import numpy as np\n",
    "import matplotlib.pyplot as plt\n",
    "import pandas as pd"
   ],
   "id": "892f0894eabfa1c9",
   "outputs": [],
   "execution_count": 2
  },
  {
   "metadata": {},
   "cell_type": "markdown",
   "source": "### Importing the training set",
   "id": "3b947df3eb6dfeb5"
  },
  {
   "metadata": {
    "ExecuteTime": {
     "end_time": "2024-11-15T12:00:17.128745Z",
     "start_time": "2024-11-15T12:00:16.774589Z"
    }
   },
   "cell_type": "code",
   "source": [
    "stock_symbol = 'AAPL'\n",
    "start_date = '2020-01-01'\n",
    "end_date = '2024-01-01'\n",
    "data = yf.download(stock_symbol, start=start_date, end=end_date)"
   ],
   "id": "6e1f8991d580f61",
   "outputs": [
    {
     "name": "stderr",
     "output_type": "stream",
     "text": [
      "[*********************100%***********************]  1 of 1 completed\n"
     ]
    }
   ],
   "execution_count": 9
  },
  {
   "metadata": {
    "id": "1xiv3pJOgqY3",
    "executionInfo": {
     "status": "ok",
     "timestamp": 1727870798007,
     "user_tz": -240,
     "elapsed": 1392,
     "user": {
      "displayName": "Hadelin de Ponteves",
      "userId": "15047218817161520419"
     }
    },
    "ExecuteTime": {
     "end_time": "2024-11-15T12:00:18.609957Z",
     "start_time": "2024-11-15T12:00:18.604957Z"
    }
   },
   "cell_type": "code",
   "source": [
    "#dataset_train = pd.read_csv('Data/Google_Stock_Price_Train.csv')\n",
    "training_set = data['Close'].values.reshape(-1, 1)"
   ],
   "id": "9ff69acb1caaccaf",
   "outputs": [],
   "execution_count": 10
  },
  {
   "metadata": {},
   "cell_type": "markdown",
   "source": "### Feature Scaling",
   "id": "3011c0e91e00aecc"
  },
  {
   "metadata": {
    "ExecuteTime": {
     "end_time": "2024-11-15T11:59:51.986975Z",
     "start_time": "2024-11-15T11:59:51.980594Z"
    }
   },
   "cell_type": "code",
   "source": "training_set",
   "id": "271734275412ec48",
   "outputs": [
    {
     "data": {
      "text/plain": [
       "array([[125.06999969],\n",
       "       [126.36000061],\n",
       "       [125.01999664],\n",
       "       [129.61999512],\n",
       "       [130.1499939 ],\n",
       "       [130.72999573],\n",
       "       [133.49000549],\n",
       "       [133.41000366],\n",
       "       [134.75999451],\n",
       "       [135.94000244],\n",
       "       [135.21000671],\n",
       "       [135.27000427],\n",
       "       [137.86999512],\n",
       "       [141.11000061],\n",
       "       [142.52999878],\n",
       "       [141.86000061],\n",
       "       [143.96000671],\n",
       "       [145.92999268],\n",
       "       [143.        ],\n",
       "       [144.28999329],\n",
       "       [145.42999268],\n",
       "       [150.82000732],\n",
       "       [154.5       ],\n",
       "       [151.72999573],\n",
       "       [154.6499939 ],\n",
       "       [151.91999817],\n",
       "       [150.86999512],\n",
       "       [151.00999451],\n",
       "       [153.8500061 ],\n",
       "       [153.19999695],\n",
       "       [155.33000183],\n",
       "       [153.71000671],\n",
       "       [152.55000305],\n",
       "       [148.47999573],\n",
       "       [148.91000366],\n",
       "       [149.3999939 ],\n",
       "       [146.71000671],\n",
       "       [147.91999817],\n",
       "       [147.41000366],\n",
       "       [145.30999756],\n",
       "       [145.91000366],\n",
       "       [151.02999878],\n",
       "       [153.83000183],\n",
       "       [151.6000061 ],\n",
       "       [152.86999512],\n",
       "       [150.58999634],\n",
       "       [148.5       ],\n",
       "       [150.47000122],\n",
       "       [152.58999634],\n",
       "       [152.99000549],\n",
       "       [155.8500061 ],\n",
       "       [155.        ],\n",
       "       [157.3999939 ],\n",
       "       [159.27999878],\n",
       "       [157.83000183],\n",
       "       [158.92999268],\n",
       "       [160.25      ],\n",
       "       [158.27999878],\n",
       "       [157.6499939 ],\n",
       "       [160.77000427],\n",
       "       [162.36000061],\n",
       "       [164.8999939 ],\n",
       "       [166.16999817],\n",
       "       [165.63000488],\n",
       "       [163.75999451],\n",
       "       [164.66000366],\n",
       "       [162.02999878],\n",
       "       [160.80000305],\n",
       "       [160.1000061 ],\n",
       "       [165.55999756],\n",
       "       [165.21000671],\n",
       "       [165.22999573],\n",
       "       [166.47000122],\n",
       "       [167.63000488],\n",
       "       [166.6499939 ],\n",
       "       [165.02000427],\n",
       "       [165.33000183],\n",
       "       [163.77000427],\n",
       "       [163.75999451],\n",
       "       [168.41000366],\n",
       "       [169.67999268],\n",
       "       [169.58999634],\n",
       "       [168.53999329],\n",
       "       [167.44999695],\n",
       "       [165.78999329],\n",
       "       [173.57000732],\n",
       "       [173.5       ],\n",
       "       [171.77000427],\n",
       "       [173.55999756],\n",
       "       [173.75      ],\n",
       "       [172.57000732],\n",
       "       [172.07000732],\n",
       "       [172.07000732],\n",
       "       [172.69000244],\n",
       "       [175.05000305],\n",
       "       [175.16000366],\n",
       "       [174.19999695],\n",
       "       [171.55999756],\n",
       "       [171.83999634],\n",
       "       [172.99000549],\n",
       "       [175.42999268],\n",
       "       [177.30000305],\n",
       "       [177.25      ],\n",
       "       [180.08999634],\n",
       "       [180.94999695],\n",
       "       [179.58000183],\n",
       "       [179.21000671],\n",
       "       [177.82000732],\n",
       "       [180.57000732],\n",
       "       [180.96000671],\n",
       "       [183.78999329],\n",
       "       [183.30999756],\n",
       "       [183.94999695],\n",
       "       [186.00999451],\n",
       "       [184.91999817],\n",
       "       [185.00999451],\n",
       "       [183.96000671],\n",
       "       [187.        ],\n",
       "       [186.67999268],\n",
       "       [185.27000427],\n",
       "       [188.05999756],\n",
       "       [189.25      ],\n",
       "       [189.58999634],\n",
       "       [193.97000122],\n",
       "       [192.46000671],\n",
       "       [191.33000183],\n",
       "       [191.80999756],\n",
       "       [190.67999268],\n",
       "       [188.61000061],\n",
       "       [188.08000183],\n",
       "       [189.77000427],\n",
       "       [190.53999329],\n",
       "       [190.69000244],\n",
       "       [193.99000549],\n",
       "       [193.72999573],\n",
       "       [195.1000061 ],\n",
       "       [193.13000488],\n",
       "       [191.94000244],\n",
       "       [192.75      ],\n",
       "       [193.61999512],\n",
       "       [194.5       ],\n",
       "       [193.22000122],\n",
       "       [195.83000183],\n",
       "       [196.44999695],\n",
       "       [195.61000061],\n",
       "       [192.58000183],\n",
       "       [191.16999817],\n",
       "       [181.99000549],\n",
       "       [178.8500061 ],\n",
       "       [179.80000305],\n",
       "       [178.19000244],\n",
       "       [177.97000122],\n",
       "       [177.78999329],\n",
       "       [179.46000671],\n",
       "       [177.44999695],\n",
       "       [176.57000732],\n",
       "       [174.        ],\n",
       "       [174.49000549],\n",
       "       [175.83999634],\n",
       "       [177.22999573],\n",
       "       [181.11999512],\n",
       "       [176.38000488],\n",
       "       [178.61000061],\n",
       "       [180.19000244],\n",
       "       [184.11999512],\n",
       "       [187.6499939 ],\n",
       "       [187.86999512],\n",
       "       [189.46000671],\n",
       "       [189.69999695],\n",
       "       [182.91000366],\n",
       "       [177.55999756],\n",
       "       [178.17999268],\n",
       "       [179.36000061],\n",
       "       [176.30000305],\n",
       "       [174.21000671],\n",
       "       [175.74000549],\n",
       "       [175.00999451],\n",
       "       [177.97000122],\n",
       "       [179.07000732],\n",
       "       [175.49000549],\n",
       "       [173.92999268],\n",
       "       [174.78999329],\n",
       "       [176.08000183],\n",
       "       [171.96000671],\n",
       "       [170.42999268],\n",
       "       [170.69000244],\n",
       "       [171.21000671],\n",
       "       [173.75      ],\n",
       "       [172.3999939 ],\n",
       "       [173.66000366],\n",
       "       [174.91000366],\n",
       "       [177.49000549],\n",
       "       [178.99000549],\n",
       "       [178.38999939],\n",
       "       [179.80000305],\n",
       "       [180.71000671],\n",
       "       [178.8500061 ],\n",
       "       [178.72000122],\n",
       "       [177.1499939 ],\n",
       "       [175.83999634],\n",
       "       [175.46000671],\n",
       "       [172.88000488],\n",
       "       [173.        ],\n",
       "       [173.44000244],\n",
       "       [171.1000061 ],\n",
       "       [166.88999939],\n",
       "       [168.22000122],\n",
       "       [170.28999329],\n",
       "       [170.77000427],\n",
       "       [173.97000122],\n",
       "       [177.57000732],\n",
       "       [176.6499939 ],\n",
       "       [179.22999573],\n",
       "       [181.82000732],\n",
       "       [182.88999939],\n",
       "       [182.41000366],\n",
       "       [186.3999939 ],\n",
       "       [184.80000305],\n",
       "       [187.44000244],\n",
       "       [188.00999451],\n",
       "       [189.71000671],\n",
       "       [189.69000244],\n",
       "       [191.44999695],\n",
       "       [190.63999939],\n",
       "       [191.30999756],\n",
       "       [189.97000122],\n",
       "       [189.78999329],\n",
       "       [190.3999939 ],\n",
       "       [189.36999512],\n",
       "       [189.94999695],\n",
       "       [191.24000549],\n",
       "       [189.42999268],\n",
       "       [193.41999817],\n",
       "       [192.32000732],\n",
       "       [194.27000427],\n",
       "       [195.71000671],\n",
       "       [193.17999268],\n",
       "       [194.71000671],\n",
       "       [197.96000671],\n",
       "       [198.11000061],\n",
       "       [197.57000732],\n",
       "       [195.88999939],\n",
       "       [196.94000244],\n",
       "       [194.83000183],\n",
       "       [194.67999268],\n",
       "       [193.6000061 ],\n",
       "       [193.05000305],\n",
       "       [193.1499939 ],\n",
       "       [193.58000183],\n",
       "       [192.52999878]])"
      ]
     },
     "execution_count": 6,
     "metadata": {},
     "output_type": "execute_result"
    }
   ],
   "execution_count": 6
  },
  {
   "metadata": {
    "id": "OTrF2kR7gx9x",
    "executionInfo": {
     "status": "ok",
     "timestamp": 1727870804451,
     "user_tz": -240,
     "elapsed": 1514,
     "user": {
      "displayName": "Hadelin de Ponteves",
      "userId": "15047218817161520419"
     }
    },
    "ExecuteTime": {
     "end_time": "2024-11-15T12:00:23.417518Z",
     "start_time": "2024-11-15T12:00:23.413407Z"
    }
   },
   "cell_type": "code",
   "source": [
    "from sklearn.preprocessing import MinMaxScaler\n",
    "sc = MinMaxScaler(feature_range = (0, 1))\n",
    "training_set_scaled = sc.fit_transform(training_set)"
   ],
   "id": "7f766fd27f492070",
   "outputs": [],
   "execution_count": 11
  },
  {
   "metadata": {},
   "cell_type": "markdown",
   "source": "### Creating a data structure with 60 timesteps and 1 output",
   "id": "593369886f038fe"
  },
  {
   "metadata": {
    "ExecuteTime": {
     "end_time": "2024-11-15T12:00:24.492570Z",
     "start_time": "2024-11-15T12:00:24.489045Z"
    }
   },
   "cell_type": "code",
   "source": "len(training_set_scaled)",
   "id": "5cc19202e887cd0e",
   "outputs": [
    {
     "data": {
      "text/plain": [
       "1006"
      ]
     },
     "execution_count": 12,
     "metadata": {},
     "output_type": "execute_result"
    }
   ],
   "execution_count": 12
  },
  {
   "metadata": {
    "id": "iofU21B0i6ST",
    "executionInfo": {
     "status": "ok",
     "timestamp": 1727870809519,
     "user_tz": -240,
     "elapsed": 531,
     "user": {
      "displayName": "Hadelin de Ponteves",
      "userId": "15047218817161520419"
     }
    },
    "ExecuteTime": {
     "end_time": "2024-11-15T12:00:26.337166Z",
     "start_time": "2024-11-15T12:00:26.332077Z"
    }
   },
   "cell_type": "code",
   "source": [
    "X_train = []\n",
    "y_train = []\n",
    "for i in range(60, len(training_set_scaled)):\n",
    "    X_train.append(training_set_scaled[i-60:i, 0])\n",
    "    y_train.append(training_set_scaled[i, 0])\n",
    "X_train, y_train = np.array(X_train), np.array(y_train)"
   ],
   "id": "6abc57b505341074",
   "outputs": [],
   "execution_count": 13
  },
  {
   "metadata": {},
   "cell_type": "markdown",
   "source": "### Reshaping",
   "id": "a7c9176f1426c67f"
  },
  {
   "metadata": {
    "id": "FOXqJHmNjBkz",
    "executionInfo": {
     "status": "ok",
     "timestamp": 1727870812090,
     "user_tz": -240,
     "elapsed": 4,
     "user": {
      "displayName": "Hadelin de Ponteves",
      "userId": "15047218817161520419"
     }
    },
    "ExecuteTime": {
     "end_time": "2024-11-15T12:00:29.944801Z",
     "start_time": "2024-11-15T12:00:29.941799Z"
    }
   },
   "cell_type": "code",
   "source": "X_train = np.reshape(X_train, (X_train.shape[0], X_train.shape[1], 1))",
   "id": "7b06654ac04fc324",
   "outputs": [],
   "execution_count": 14
  },
  {
   "metadata": {},
   "cell_type": "markdown",
   "source": "## Part 2 - Building and Training the RNN",
   "id": "b7db73c0b6c00b45"
  },
  {
   "metadata": {},
   "cell_type": "markdown",
   "source": "### Importing the Keras libraries and packages",
   "id": "27871cd9a59afbc0"
  },
  {
   "metadata": {
    "id": "9JRnqsxEjKsD",
    "executionInfo": {
     "status": "ok",
     "timestamp": 1727870819318,
     "user_tz": -240,
     "elapsed": 3661,
     "user": {
      "displayName": "Hadelin de Ponteves",
      "userId": "15047218817161520419"
     }
    },
    "ExecuteTime": {
     "end_time": "2024-11-15T12:02:40.872407Z",
     "start_time": "2024-11-15T12:02:40.869133Z"
    }
   },
   "cell_type": "code",
   "source": [
    "from keras.models import Sequential\n",
    "from keras.layers import Dense\n",
    "from keras.layers import LSTM\n",
    "from keras.layers import Dropout\n",
    "from keras.layers import Input"
   ],
   "id": "8bce81d71b93e339",
   "outputs": [],
   "execution_count": 18
  },
  {
   "metadata": {},
   "cell_type": "markdown",
   "source": "### Initialising the RNN",
   "id": "64a52afffc3be759"
  },
  {
   "metadata": {
    "id": "1338dJ0UjRKH",
    "executionInfo": {
     "status": "ok",
     "timestamp": 1727870824470,
     "user_tz": -240,
     "elapsed": 532,
     "user": {
      "displayName": "Hadelin de Ponteves",
      "userId": "15047218817161520419"
     }
    },
    "ExecuteTime": {
     "end_time": "2024-11-15T12:02:56.800541Z",
     "start_time": "2024-11-15T12:02:56.796540Z"
    }
   },
   "cell_type": "code",
   "source": "regressor = Sequential()",
   "id": "6d943f888c97c06c",
   "outputs": [],
   "execution_count": 22
  },
  {
   "metadata": {},
   "cell_type": "markdown",
   "source": "### Adding the first LSTM layer and some Dropout regularisation",
   "id": "352970deb2fd5fc1"
  },
  {
   "metadata": {
    "id": "2hIinyXUjbVU",
    "colab": {
     "base_uri": "https://localhost:8080/"
    },
    "executionInfo": {
     "status": "ok",
     "timestamp": 1727870827913,
     "user_tz": -240,
     "elapsed": 374,
     "user": {
      "displayName": "Hadelin de Ponteves",
      "userId": "15047218817161520419"
     }
    },
    "outputId": "bee59702-7271-4f9a-a445-9b01612cffb9",
    "ExecuteTime": {
     "end_time": "2024-11-15T12:02:57.625172Z",
     "start_time": "2024-11-15T12:02:57.608339Z"
    }
   },
   "cell_type": "code",
   "source": [
    "# Define the input layer\n",
    "regressor.add(Input(shape=(X_train.shape[1], 1)))\n",
    "\n",
    "# Add the LSTM layer and Dropout regularisation\n",
    "regressor.add(LSTM(units=50, return_sequences=True))\n",
    "regressor.add(Dropout(0.2))"
   ],
   "id": "4777a9759c43d1ba",
   "outputs": [],
   "execution_count": 23
  },
  {
   "metadata": {},
   "cell_type": "markdown",
   "source": "### Adding a second LSTM layer and some Dropout regularisation",
   "id": "c5c649e403aba30d"
  },
  {
   "metadata": {
    "id": "UG7nrVaSjuZ2",
    "executionInfo": {
     "status": "ok",
     "timestamp": 1727870831328,
     "user_tz": -240,
     "elapsed": 359,
     "user": {
      "displayName": "Hadelin de Ponteves",
      "userId": "15047218817161520419"
     }
    },
    "ExecuteTime": {
     "end_time": "2024-11-15T12:03:00.250897Z",
     "start_time": "2024-11-15T12:03:00.232879Z"
    }
   },
   "cell_type": "code",
   "source": [
    "regressor.add(LSTM(units = 50, return_sequences = True))\n",
    "regressor.add(Dropout(0.2))"
   ],
   "id": "b9ba9dea7e97c222",
   "outputs": [],
   "execution_count": 24
  },
  {
   "metadata": {},
   "cell_type": "markdown",
   "source": "### Adding a third LSTM layer and some Dropout regularisation",
   "id": "41dab1b745b0627d"
  },
  {
   "metadata": {
    "id": "PuNi6PgFj7jO",
    "executionInfo": {
     "status": "ok",
     "timestamp": 1727870833911,
     "user_tz": -240,
     "elapsed": 494,
     "user": {
      "displayName": "Hadelin de Ponteves",
      "userId": "15047218817161520419"
     }
    },
    "ExecuteTime": {
     "end_time": "2024-11-15T12:03:01.576697Z",
     "start_time": "2024-11-15T12:03:01.560164Z"
    }
   },
   "cell_type": "code",
   "source": [
    "regressor.add(LSTM(units = 50, return_sequences = True))\n",
    "regressor.add(Dropout(0.2))"
   ],
   "id": "a6272babb6dfa7b0",
   "outputs": [],
   "execution_count": 25
  },
  {
   "metadata": {},
   "cell_type": "markdown",
   "source": "### Adding a fourth LSTM layer and some Dropout regularisation",
   "id": "f7176d498254400d"
  },
  {
   "metadata": {
    "id": "Jp4Ty8fRkBYV",
    "executionInfo": {
     "status": "ok",
     "timestamp": 1727870836923,
     "user_tz": -240,
     "elapsed": 511,
     "user": {
      "displayName": "Hadelin de Ponteves",
      "userId": "15047218817161520419"
     }
    },
    "ExecuteTime": {
     "end_time": "2024-11-15T12:03:03.212026Z",
     "start_time": "2024-11-15T12:03:03.193029Z"
    }
   },
   "cell_type": "code",
   "source": [
    "regressor.add(LSTM(units = 50))\n",
    "regressor.add(Dropout(0.2))"
   ],
   "id": "3889d8da1856c845",
   "outputs": [],
   "execution_count": 26
  },
  {
   "metadata": {},
   "cell_type": "markdown",
   "source": "### Adding the output layer",
   "id": "e0ba341b682874a1"
  },
  {
   "metadata": {
    "id": "aM6R1z4WkME8",
    "executionInfo": {
     "status": "ok",
     "timestamp": 1727870839839,
     "user_tz": -240,
     "elapsed": 351,
     "user": {
      "displayName": "Hadelin de Ponteves",
      "userId": "15047218817161520419"
     }
    },
    "ExecuteTime": {
     "end_time": "2024-11-15T12:03:04.671286Z",
     "start_time": "2024-11-15T12:03:04.659286Z"
    }
   },
   "cell_type": "code",
   "source": "regressor.add(Dense(units = 1))",
   "id": "d2ce87f69caeae9a",
   "outputs": [],
   "execution_count": 27
  },
  {
   "metadata": {},
   "cell_type": "markdown",
   "source": "### Compiling the RNN",
   "id": "5aa717d50f413ce"
  },
  {
   "metadata": {
    "id": "XTrhVN-tkbko",
    "executionInfo": {
     "status": "ok",
     "timestamp": 1727870842696,
     "user_tz": -240,
     "elapsed": 411,
     "user": {
      "displayName": "Hadelin de Ponteves",
      "userId": "15047218817161520419"
     }
    },
    "ExecuteTime": {
     "end_time": "2024-11-15T12:03:06.448Z",
     "start_time": "2024-11-15T12:03:06.439720Z"
    }
   },
   "cell_type": "code",
   "source": "regressor.compile(optimizer = 'adam', loss = 'mean_squared_error')",
   "id": "c610f211db89e8b3",
   "outputs": [],
   "execution_count": 28
  },
  {
   "metadata": {},
   "cell_type": "markdown",
   "source": "### Fitting the RNN to the Training set",
   "id": "b7af3a20c565dd32"
  },
  {
   "metadata": {
    "id": "I06Nkrz5kkb-",
    "colab": {
     "base_uri": "https://localhost:8080/"
    },
    "outputId": "2f08cf5a-f200-49b6-dfe5-5a18e83e3e86",
    "executionInfo": {
     "status": "ok",
     "timestamp": 1727871399855,
     "user_tz": -240,
     "elapsed": 555018,
     "user": {
      "displayName": "Hadelin de Ponteves",
      "userId": "15047218817161520419"
     }
    },
    "ExecuteTime": {
     "end_time": "2024-11-15T12:04:54.342742Z",
     "start_time": "2024-11-15T12:03:08.921411Z"
    }
   },
   "cell_type": "code",
   "source": "regressor.fit(X_train, y_train, epochs = 100, batch_size = 32)",
   "id": "399db8e2a07dfcef",
   "outputs": [
    {
     "name": "stdout",
     "output_type": "stream",
     "text": [
      "Epoch 1/100\n",
      "\u001B[1m30/30\u001B[0m \u001B[32m━━━━━━━━━━━━━━━━━━━━\u001B[0m\u001B[37m\u001B[0m \u001B[1m4s\u001B[0m 26ms/step - loss: 0.1294\n",
      "Epoch 2/100\n",
      "\u001B[1m30/30\u001B[0m \u001B[32m━━━━━━━━━━━━━━━━━━━━\u001B[0m\u001B[37m\u001B[0m \u001B[1m1s\u001B[0m 26ms/step - loss: 0.0103\n",
      "Epoch 3/100\n",
      "\u001B[1m30/30\u001B[0m \u001B[32m━━━━━━━━━━━━━━━━━━━━\u001B[0m\u001B[37m\u001B[0m \u001B[1m1s\u001B[0m 25ms/step - loss: 0.0077\n",
      "Epoch 4/100\n",
      "\u001B[1m30/30\u001B[0m \u001B[32m━━━━━━━━━━━━━━━━━━━━\u001B[0m\u001B[37m\u001B[0m \u001B[1m1s\u001B[0m 25ms/step - loss: 0.0084\n",
      "Epoch 5/100\n",
      "\u001B[1m30/30\u001B[0m \u001B[32m━━━━━━━━━━━━━━━━━━━━\u001B[0m\u001B[37m\u001B[0m \u001B[1m1s\u001B[0m 25ms/step - loss: 0.0074\n",
      "Epoch 6/100\n",
      "\u001B[1m30/30\u001B[0m \u001B[32m━━━━━━━━━━━━━━━━━━━━\u001B[0m\u001B[37m\u001B[0m \u001B[1m1s\u001B[0m 25ms/step - loss: 0.0073\n",
      "Epoch 7/100\n",
      "\u001B[1m30/30\u001B[0m \u001B[32m━━━━━━━━━━━━━━━━━━━━\u001B[0m\u001B[37m\u001B[0m \u001B[1m1s\u001B[0m 25ms/step - loss: 0.0074\n",
      "Epoch 8/100\n",
      "\u001B[1m30/30\u001B[0m \u001B[32m━━━━━━━━━━━━━━━━━━━━\u001B[0m\u001B[37m\u001B[0m \u001B[1m1s\u001B[0m 26ms/step - loss: 0.0070\n",
      "Epoch 9/100\n",
      "\u001B[1m30/30\u001B[0m \u001B[32m━━━━━━━━━━━━━━━━━━━━\u001B[0m\u001B[37m\u001B[0m \u001B[1m1s\u001B[0m 26ms/step - loss: 0.0063\n",
      "Epoch 10/100\n",
      "\u001B[1m30/30\u001B[0m \u001B[32m━━━━━━━━━━━━━━━━━━━━\u001B[0m\u001B[37m\u001B[0m \u001B[1m1s\u001B[0m 25ms/step - loss: 0.0057\n",
      "Epoch 11/100\n",
      "\u001B[1m30/30\u001B[0m \u001B[32m━━━━━━━━━━━━━━━━━━━━\u001B[0m\u001B[37m\u001B[0m \u001B[1m1s\u001B[0m 26ms/step - loss: 0.0067\n",
      "Epoch 12/100\n",
      "\u001B[1m30/30\u001B[0m \u001B[32m━━━━━━━━━━━━━━━━━━━━\u001B[0m\u001B[37m\u001B[0m \u001B[1m1s\u001B[0m 25ms/step - loss: 0.0058\n",
      "Epoch 13/100\n",
      "\u001B[1m30/30\u001B[0m \u001B[32m━━━━━━━━━━━━━━━━━━━━\u001B[0m\u001B[37m\u001B[0m \u001B[1m1s\u001B[0m 25ms/step - loss: 0.0070\n",
      "Epoch 14/100\n",
      "\u001B[1m30/30\u001B[0m \u001B[32m━━━━━━━━━━━━━━━━━━━━\u001B[0m\u001B[37m\u001B[0m \u001B[1m1s\u001B[0m 26ms/step - loss: 0.0070\n",
      "Epoch 15/100\n",
      "\u001B[1m30/30\u001B[0m \u001B[32m━━━━━━━━━━━━━━━━━━━━\u001B[0m\u001B[37m\u001B[0m \u001B[1m1s\u001B[0m 26ms/step - loss: 0.0058\n",
      "Epoch 16/100\n",
      "\u001B[1m30/30\u001B[0m \u001B[32m━━━━━━━━━━━━━━━━━━━━\u001B[0m\u001B[37m\u001B[0m \u001B[1m1s\u001B[0m 26ms/step - loss: 0.0056\n",
      "Epoch 17/100\n",
      "\u001B[1m30/30\u001B[0m \u001B[32m━━━━━━━━━━━━━━━━━━━━\u001B[0m\u001B[37m\u001B[0m \u001B[1m1s\u001B[0m 26ms/step - loss: 0.0052\n",
      "Epoch 18/100\n",
      "\u001B[1m30/30\u001B[0m \u001B[32m━━━━━━━━━━━━━━━━━━━━\u001B[0m\u001B[37m\u001B[0m \u001B[1m1s\u001B[0m 26ms/step - loss: 0.0059\n",
      "Epoch 19/100\n",
      "\u001B[1m30/30\u001B[0m \u001B[32m━━━━━━━━━━━━━━━━━━━━\u001B[0m\u001B[37m\u001B[0m \u001B[1m1s\u001B[0m 26ms/step - loss: 0.0048\n",
      "Epoch 20/100\n",
      "\u001B[1m30/30\u001B[0m \u001B[32m━━━━━━━━━━━━━━━━━━━━\u001B[0m\u001B[37m\u001B[0m \u001B[1m1s\u001B[0m 25ms/step - loss: 0.0057\n",
      "Epoch 21/100\n",
      "\u001B[1m30/30\u001B[0m \u001B[32m━━━━━━━━━━━━━━━━━━━━\u001B[0m\u001B[37m\u001B[0m \u001B[1m1s\u001B[0m 26ms/step - loss: 0.0054\n",
      "Epoch 22/100\n",
      "\u001B[1m30/30\u001B[0m \u001B[32m━━━━━━━━━━━━━━━━━━━━\u001B[0m\u001B[37m\u001B[0m \u001B[1m1s\u001B[0m 26ms/step - loss: 0.0053\n",
      "Epoch 23/100\n",
      "\u001B[1m30/30\u001B[0m \u001B[32m━━━━━━━━━━━━━━━━━━━━\u001B[0m\u001B[37m\u001B[0m \u001B[1m1s\u001B[0m 29ms/step - loss: 0.0047\n",
      "Epoch 24/100\n",
      "\u001B[1m30/30\u001B[0m \u001B[32m━━━━━━━━━━━━━━━━━━━━\u001B[0m\u001B[37m\u001B[0m \u001B[1m1s\u001B[0m 29ms/step - loss: 0.0053\n",
      "Epoch 25/100\n",
      "\u001B[1m30/30\u001B[0m \u001B[32m━━━━━━━━━━━━━━━━━━━━\u001B[0m\u001B[37m\u001B[0m \u001B[1m1s\u001B[0m 29ms/step - loss: 0.0053\n",
      "Epoch 26/100\n",
      "\u001B[1m30/30\u001B[0m \u001B[32m━━━━━━━━━━━━━━━━━━━━\u001B[0m\u001B[37m\u001B[0m \u001B[1m1s\u001B[0m 27ms/step - loss: 0.0043\n",
      "Epoch 27/100\n",
      "\u001B[1m30/30\u001B[0m \u001B[32m━━━━━━━━━━━━━━━━━━━━\u001B[0m\u001B[37m\u001B[0m \u001B[1m1s\u001B[0m 27ms/step - loss: 0.0047\n",
      "Epoch 28/100\n",
      "\u001B[1m30/30\u001B[0m \u001B[32m━━━━━━━━━━━━━━━━━━━━\u001B[0m\u001B[37m\u001B[0m \u001B[1m1s\u001B[0m 27ms/step - loss: 0.0046\n",
      "Epoch 29/100\n",
      "\u001B[1m30/30\u001B[0m \u001B[32m━━━━━━━━━━━━━━━━━━━━\u001B[0m\u001B[37m\u001B[0m \u001B[1m1s\u001B[0m 38ms/step - loss: 0.0048\n",
      "Epoch 30/100\n",
      "\u001B[1m30/30\u001B[0m \u001B[32m━━━━━━━━━━━━━━━━━━━━\u001B[0m\u001B[37m\u001B[0m \u001B[1m1s\u001B[0m 42ms/step - loss: 0.0042\n",
      "Epoch 31/100\n",
      "\u001B[1m30/30\u001B[0m \u001B[32m━━━━━━━━━━━━━━━━━━━━\u001B[0m\u001B[37m\u001B[0m \u001B[1m1s\u001B[0m 41ms/step - loss: 0.0048\n",
      "Epoch 32/100\n",
      "\u001B[1m30/30\u001B[0m \u001B[32m━━━━━━━━━━━━━━━━━━━━\u001B[0m\u001B[37m\u001B[0m \u001B[1m1s\u001B[0m 46ms/step - loss: 0.0047\n",
      "Epoch 33/100\n",
      "\u001B[1m30/30\u001B[0m \u001B[32m━━━━━━━━━━━━━━━━━━━━\u001B[0m\u001B[37m\u001B[0m \u001B[1m2s\u001B[0m 52ms/step - loss: 0.0042\n",
      "Epoch 34/100\n",
      "\u001B[1m30/30\u001B[0m \u001B[32m━━━━━━━━━━━━━━━━━━━━\u001B[0m\u001B[37m\u001B[0m \u001B[1m1s\u001B[0m 46ms/step - loss: 0.0041\n",
      "Epoch 35/100\n",
      "\u001B[1m30/30\u001B[0m \u001B[32m━━━━━━━━━━━━━━━━━━━━\u001B[0m\u001B[37m\u001B[0m \u001B[1m2s\u001B[0m 67ms/step - loss: 0.0040\n",
      "Epoch 36/100\n",
      "\u001B[1m30/30\u001B[0m \u001B[32m━━━━━━━━━━━━━━━━━━━━\u001B[0m\u001B[37m\u001B[0m \u001B[1m3s\u001B[0m 90ms/step - loss: 0.0043\n",
      "Epoch 37/100\n",
      "\u001B[1m30/30\u001B[0m \u001B[32m━━━━━━━━━━━━━━━━━━━━\u001B[0m\u001B[37m\u001B[0m \u001B[1m4s\u001B[0m 119ms/step - loss: 0.0042\n",
      "Epoch 38/100\n",
      "\u001B[1m30/30\u001B[0m \u001B[32m━━━━━━━━━━━━━━━━━━━━\u001B[0m\u001B[37m\u001B[0m \u001B[1m3s\u001B[0m 91ms/step - loss: 0.0038\n",
      "Epoch 39/100\n",
      "\u001B[1m30/30\u001B[0m \u001B[32m━━━━━━━━━━━━━━━━━━━━\u001B[0m\u001B[37m\u001B[0m \u001B[1m3s\u001B[0m 86ms/step - loss: 0.0035\n",
      "Epoch 40/100\n",
      "\u001B[1m30/30\u001B[0m \u001B[32m━━━━━━━━━━━━━━━━━━━━\u001B[0m\u001B[37m\u001B[0m \u001B[1m2s\u001B[0m 79ms/step - loss: 0.0039\n",
      "Epoch 41/100\n",
      "\u001B[1m30/30\u001B[0m \u001B[32m━━━━━━━━━━━━━━━━━━━━\u001B[0m\u001B[37m\u001B[0m \u001B[1m3s\u001B[0m 86ms/step - loss: 0.0046\n",
      "Epoch 42/100\n",
      "\u001B[1m30/30\u001B[0m \u001B[32m━━━━━━━━━━━━━━━━━━━━\u001B[0m\u001B[37m\u001B[0m \u001B[1m3s\u001B[0m 84ms/step - loss: 0.0031\n",
      "Epoch 43/100\n",
      "\u001B[1m30/30\u001B[0m \u001B[32m━━━━━━━━━━━━━━━━━━━━\u001B[0m\u001B[37m\u001B[0m \u001B[1m2s\u001B[0m 81ms/step - loss: 0.0039\n",
      "Epoch 44/100\n",
      "\u001B[1m30/30\u001B[0m \u001B[32m━━━━━━━━━━━━━━━━━━━━\u001B[0m\u001B[37m\u001B[0m \u001B[1m2s\u001B[0m 50ms/step - loss: 0.0036\n",
      "Epoch 45/100\n",
      "\u001B[1m30/30\u001B[0m \u001B[32m━━━━━━━━━━━━━━━━━━━━\u001B[0m\u001B[37m\u001B[0m \u001B[1m1s\u001B[0m 28ms/step - loss: 0.0038\n",
      "Epoch 46/100\n",
      "\u001B[1m30/30\u001B[0m \u001B[32m━━━━━━━━━━━━━━━━━━━━\u001B[0m\u001B[37m\u001B[0m \u001B[1m1s\u001B[0m 28ms/step - loss: 0.0038\n",
      "Epoch 47/100\n",
      "\u001B[1m30/30\u001B[0m \u001B[32m━━━━━━━━━━━━━━━━━━━━\u001B[0m\u001B[37m\u001B[0m \u001B[1m1s\u001B[0m 27ms/step - loss: 0.0034\n",
      "Epoch 48/100\n",
      "\u001B[1m30/30\u001B[0m \u001B[32m━━━━━━━━━━━━━━━━━━━━\u001B[0m\u001B[37m\u001B[0m \u001B[1m1s\u001B[0m 27ms/step - loss: 0.0040\n",
      "Epoch 49/100\n",
      "\u001B[1m30/30\u001B[0m \u001B[32m━━━━━━━━━━━━━━━━━━━━\u001B[0m\u001B[37m\u001B[0m \u001B[1m1s\u001B[0m 26ms/step - loss: 0.0033\n",
      "Epoch 50/100\n",
      "\u001B[1m30/30\u001B[0m \u001B[32m━━━━━━━━━━━━━━━━━━━━\u001B[0m\u001B[37m\u001B[0m \u001B[1m1s\u001B[0m 27ms/step - loss: 0.0034\n",
      "Epoch 51/100\n",
      "\u001B[1m30/30\u001B[0m \u001B[32m━━━━━━━━━━━━━━━━━━━━\u001B[0m\u001B[37m\u001B[0m \u001B[1m1s\u001B[0m 27ms/step - loss: 0.0034\n",
      "Epoch 52/100\n",
      "\u001B[1m30/30\u001B[0m \u001B[32m━━━━━━━━━━━━━━━━━━━━\u001B[0m\u001B[37m\u001B[0m \u001B[1m1s\u001B[0m 28ms/step - loss: 0.0026\n",
      "Epoch 53/100\n",
      "\u001B[1m30/30\u001B[0m \u001B[32m━━━━━━━━━━━━━━━━━━━━\u001B[0m\u001B[37m\u001B[0m \u001B[1m1s\u001B[0m 27ms/step - loss: 0.0033\n",
      "Epoch 54/100\n",
      "\u001B[1m30/30\u001B[0m \u001B[32m━━━━━━━━━━━━━━━━━━━━\u001B[0m\u001B[37m\u001B[0m \u001B[1m1s\u001B[0m 27ms/step - loss: 0.0028\n",
      "Epoch 55/100\n",
      "\u001B[1m30/30\u001B[0m \u001B[32m━━━━━━━━━━━━━━━━━━━━\u001B[0m\u001B[37m\u001B[0m \u001B[1m1s\u001B[0m 26ms/step - loss: 0.0028\n",
      "Epoch 56/100\n",
      "\u001B[1m30/30\u001B[0m \u001B[32m━━━━━━━━━━━━━━━━━━━━\u001B[0m\u001B[37m\u001B[0m \u001B[1m1s\u001B[0m 26ms/step - loss: 0.0034\n",
      "Epoch 57/100\n",
      "\u001B[1m30/30\u001B[0m \u001B[32m━━━━━━━━━━━━━━━━━━━━\u001B[0m\u001B[37m\u001B[0m \u001B[1m1s\u001B[0m 27ms/step - loss: 0.0030\n",
      "Epoch 58/100\n",
      "\u001B[1m30/30\u001B[0m \u001B[32m━━━━━━━━━━━━━━━━━━━━\u001B[0m\u001B[37m\u001B[0m \u001B[1m1s\u001B[0m 26ms/step - loss: 0.0028\n",
      "Epoch 59/100\n",
      "\u001B[1m30/30\u001B[0m \u001B[32m━━━━━━━━━━━━━━━━━━━━\u001B[0m\u001B[37m\u001B[0m \u001B[1m1s\u001B[0m 27ms/step - loss: 0.0028\n",
      "Epoch 60/100\n",
      "\u001B[1m30/30\u001B[0m \u001B[32m━━━━━━━━━━━━━━━━━━━━\u001B[0m\u001B[37m\u001B[0m \u001B[1m1s\u001B[0m 27ms/step - loss: 0.0030\n",
      "Epoch 61/100\n",
      "\u001B[1m30/30\u001B[0m \u001B[32m━━━━━━━━━━━━━━━━━━━━\u001B[0m\u001B[37m\u001B[0m \u001B[1m1s\u001B[0m 27ms/step - loss: 0.0029\n",
      "Epoch 62/100\n",
      "\u001B[1m30/30\u001B[0m \u001B[32m━━━━━━━━━━━━━━━━━━━━\u001B[0m\u001B[37m\u001B[0m \u001B[1m1s\u001B[0m 26ms/step - loss: 0.0031\n",
      "Epoch 63/100\n",
      "\u001B[1m30/30\u001B[0m \u001B[32m━━━━━━━━━━━━━━━━━━━━\u001B[0m\u001B[37m\u001B[0m \u001B[1m1s\u001B[0m 27ms/step - loss: 0.0030\n",
      "Epoch 64/100\n",
      "\u001B[1m30/30\u001B[0m \u001B[32m━━━━━━━━━━━━━━━━━━━━\u001B[0m\u001B[37m\u001B[0m \u001B[1m1s\u001B[0m 26ms/step - loss: 0.0027\n",
      "Epoch 65/100\n",
      "\u001B[1m30/30\u001B[0m \u001B[32m━━━━━━━━━━━━━━━━━━━━\u001B[0m\u001B[37m\u001B[0m \u001B[1m1s\u001B[0m 27ms/step - loss: 0.0030\n",
      "Epoch 66/100\n",
      "\u001B[1m30/30\u001B[0m \u001B[32m━━━━━━━━━━━━━━━━━━━━\u001B[0m\u001B[37m\u001B[0m \u001B[1m1s\u001B[0m 27ms/step - loss: 0.0027\n",
      "Epoch 67/100\n",
      "\u001B[1m30/30\u001B[0m \u001B[32m━━━━━━━━━━━━━━━━━━━━\u001B[0m\u001B[37m\u001B[0m \u001B[1m1s\u001B[0m 26ms/step - loss: 0.0029\n",
      "Epoch 68/100\n",
      "\u001B[1m30/30\u001B[0m \u001B[32m━━━━━━━━━━━━━━━━━━━━\u001B[0m\u001B[37m\u001B[0m \u001B[1m1s\u001B[0m 27ms/step - loss: 0.0025\n",
      "Epoch 69/100\n",
      "\u001B[1m30/30\u001B[0m \u001B[32m━━━━━━━━━━━━━━━━━━━━\u001B[0m\u001B[37m\u001B[0m \u001B[1m1s\u001B[0m 27ms/step - loss: 0.0030\n",
      "Epoch 70/100\n",
      "\u001B[1m30/30\u001B[0m \u001B[32m━━━━━━━━━━━━━━━━━━━━\u001B[0m\u001B[37m\u001B[0m \u001B[1m1s\u001B[0m 27ms/step - loss: 0.0027\n",
      "Epoch 71/100\n",
      "\u001B[1m30/30\u001B[0m \u001B[32m━━━━━━━━━━━━━━━━━━━━\u001B[0m\u001B[37m\u001B[0m \u001B[1m1s\u001B[0m 27ms/step - loss: 0.0025\n",
      "Epoch 72/100\n",
      "\u001B[1m30/30\u001B[0m \u001B[32m━━━━━━━━━━━━━━━━━━━━\u001B[0m\u001B[37m\u001B[0m \u001B[1m1s\u001B[0m 27ms/step - loss: 0.0026\n",
      "Epoch 73/100\n",
      "\u001B[1m30/30\u001B[0m \u001B[32m━━━━━━━━━━━━━━━━━━━━\u001B[0m\u001B[37m\u001B[0m \u001B[1m1s\u001B[0m 30ms/step - loss: 0.0027\n",
      "Epoch 74/100\n",
      "\u001B[1m30/30\u001B[0m \u001B[32m━━━━━━━━━━━━━━━━━━━━\u001B[0m\u001B[37m\u001B[0m \u001B[1m1s\u001B[0m 27ms/step - loss: 0.0028\n",
      "Epoch 75/100\n",
      "\u001B[1m30/30\u001B[0m \u001B[32m━━━━━━━━━━━━━━━━━━━━\u001B[0m\u001B[37m\u001B[0m \u001B[1m1s\u001B[0m 27ms/step - loss: 0.0025\n",
      "Epoch 76/100\n",
      "\u001B[1m30/30\u001B[0m \u001B[32m━━━━━━━━━━━━━━━━━━━━\u001B[0m\u001B[37m\u001B[0m \u001B[1m1s\u001B[0m 27ms/step - loss: 0.0025\n",
      "Epoch 77/100\n",
      "\u001B[1m30/30\u001B[0m \u001B[32m━━━━━━━━━━━━━━━━━━━━\u001B[0m\u001B[37m\u001B[0m \u001B[1m1s\u001B[0m 27ms/step - loss: 0.0025\n",
      "Epoch 78/100\n",
      "\u001B[1m30/30\u001B[0m \u001B[32m━━━━━━━━━━━━━━━━━━━━\u001B[0m\u001B[37m\u001B[0m \u001B[1m1s\u001B[0m 27ms/step - loss: 0.0021\n",
      "Epoch 79/100\n",
      "\u001B[1m30/30\u001B[0m \u001B[32m━━━━━━━━━━━━━━━━━━━━\u001B[0m\u001B[37m\u001B[0m \u001B[1m1s\u001B[0m 27ms/step - loss: 0.0020\n",
      "Epoch 80/100\n",
      "\u001B[1m30/30\u001B[0m \u001B[32m━━━━━━━━━━━━━━━━━━━━\u001B[0m\u001B[37m\u001B[0m \u001B[1m1s\u001B[0m 27ms/step - loss: 0.0024\n",
      "Epoch 81/100\n",
      "\u001B[1m30/30\u001B[0m \u001B[32m━━━━━━━━━━━━━━━━━━━━\u001B[0m\u001B[37m\u001B[0m \u001B[1m1s\u001B[0m 27ms/step - loss: 0.0024\n",
      "Epoch 82/100\n",
      "\u001B[1m30/30\u001B[0m \u001B[32m━━━━━━━━━━━━━━━━━━━━\u001B[0m\u001B[37m\u001B[0m \u001B[1m1s\u001B[0m 27ms/step - loss: 0.0025\n",
      "Epoch 83/100\n",
      "\u001B[1m30/30\u001B[0m \u001B[32m━━━━━━━━━━━━━━━━━━━━\u001B[0m\u001B[37m\u001B[0m \u001B[1m1s\u001B[0m 27ms/step - loss: 0.0022\n",
      "Epoch 84/100\n",
      "\u001B[1m30/30\u001B[0m \u001B[32m━━━━━━━━━━━━━━━━━━━━\u001B[0m\u001B[37m\u001B[0m \u001B[1m1s\u001B[0m 28ms/step - loss: 0.0026\n",
      "Epoch 85/100\n",
      "\u001B[1m30/30\u001B[0m \u001B[32m━━━━━━━━━━━━━━━━━━━━\u001B[0m\u001B[37m\u001B[0m \u001B[1m1s\u001B[0m 27ms/step - loss: 0.0024\n",
      "Epoch 86/100\n",
      "\u001B[1m30/30\u001B[0m \u001B[32m━━━━━━━━━━━━━━━━━━━━\u001B[0m\u001B[37m\u001B[0m \u001B[1m1s\u001B[0m 28ms/step - loss: 0.0021\n",
      "Epoch 87/100\n",
      "\u001B[1m30/30\u001B[0m \u001B[32m━━━━━━━━━━━━━━━━━━━━\u001B[0m\u001B[37m\u001B[0m \u001B[1m1s\u001B[0m 28ms/step - loss: 0.0023\n",
      "Epoch 88/100\n",
      "\u001B[1m30/30\u001B[0m \u001B[32m━━━━━━━━━━━━━━━━━━━━\u001B[0m\u001B[37m\u001B[0m \u001B[1m1s\u001B[0m 30ms/step - loss: 0.0021\n",
      "Epoch 89/100\n",
      "\u001B[1m30/30\u001B[0m \u001B[32m━━━━━━━━━━━━━━━━━━━━\u001B[0m\u001B[37m\u001B[0m \u001B[1m1s\u001B[0m 29ms/step - loss: 0.0020\n",
      "Epoch 90/100\n",
      "\u001B[1m30/30\u001B[0m \u001B[32m━━━━━━━━━━━━━━━━━━━━\u001B[0m\u001B[37m\u001B[0m \u001B[1m1s\u001B[0m 28ms/step - loss: 0.0022\n",
      "Epoch 91/100\n",
      "\u001B[1m30/30\u001B[0m \u001B[32m━━━━━━━━━━━━━━━━━━━━\u001B[0m\u001B[37m\u001B[0m \u001B[1m1s\u001B[0m 27ms/step - loss: 0.0024\n",
      "Epoch 92/100\n",
      "\u001B[1m30/30\u001B[0m \u001B[32m━━━━━━━━━━━━━━━━━━━━\u001B[0m\u001B[37m\u001B[0m \u001B[1m1s\u001B[0m 28ms/step - loss: 0.0019\n",
      "Epoch 93/100\n",
      "\u001B[1m30/30\u001B[0m \u001B[32m━━━━━━━━━━━━━━━━━━━━\u001B[0m\u001B[37m\u001B[0m \u001B[1m1s\u001B[0m 27ms/step - loss: 0.0020\n",
      "Epoch 94/100\n",
      "\u001B[1m30/30\u001B[0m \u001B[32m━━━━━━━━━━━━━━━━━━━━\u001B[0m\u001B[37m\u001B[0m \u001B[1m1s\u001B[0m 27ms/step - loss: 0.0020\n",
      "Epoch 95/100\n",
      "\u001B[1m30/30\u001B[0m \u001B[32m━━━━━━━━━━━━━━━━━━━━\u001B[0m\u001B[37m\u001B[0m \u001B[1m1s\u001B[0m 27ms/step - loss: 0.0025\n",
      "Epoch 96/100\n",
      "\u001B[1m30/30\u001B[0m \u001B[32m━━━━━━━━━━━━━━━━━━━━\u001B[0m\u001B[37m\u001B[0m \u001B[1m1s\u001B[0m 27ms/step - loss: 0.0021\n",
      "Epoch 97/100\n",
      "\u001B[1m30/30\u001B[0m \u001B[32m━━━━━━━━━━━━━━━━━━━━\u001B[0m\u001B[37m\u001B[0m \u001B[1m1s\u001B[0m 27ms/step - loss: 0.0019\n",
      "Epoch 98/100\n",
      "\u001B[1m30/30\u001B[0m \u001B[32m━━━━━━━━━━━━━━━━━━━━\u001B[0m\u001B[37m\u001B[0m \u001B[1m1s\u001B[0m 27ms/step - loss: 0.0017\n",
      "Epoch 99/100\n",
      "\u001B[1m30/30\u001B[0m \u001B[32m━━━━━━━━━━━━━━━━━━━━\u001B[0m\u001B[37m\u001B[0m \u001B[1m1s\u001B[0m 28ms/step - loss: 0.0019\n",
      "Epoch 100/100\n",
      "\u001B[1m30/30\u001B[0m \u001B[32m━━━━━━━━━━━━━━━━━━━━\u001B[0m\u001B[37m\u001B[0m \u001B[1m1s\u001B[0m 28ms/step - loss: 0.0022\n"
     ]
    },
    {
     "data": {
      "text/plain": [
       "<keras.src.callbacks.history.History at 0x24cc24e5450>"
      ]
     },
     "execution_count": 29,
     "metadata": {},
     "output_type": "execute_result"
    }
   ],
   "execution_count": 29
  },
  {
   "metadata": {},
   "cell_type": "markdown",
   "source": "## Part 3 - Making the predictions and visualising the results",
   "id": "ac7ac65d8bd552d4"
  },
  {
   "metadata": {},
   "cell_type": "markdown",
   "source": "### Getting the real stock price of 2017",
   "id": "d38c1ec543ea6ce1"
  },
  {
   "metadata": {
    "ExecuteTime": {
     "end_time": "2024-11-15T12:06:45.402240Z",
     "start_time": "2024-11-15T12:06:45.175906Z"
    }
   },
   "cell_type": "code",
   "source": [
    "start_date2 = '2024-01-01'\n",
    "end_date2 = '2024-01-31'\n",
    "data2 = yf.download(stock_symbol, start=start_date2, end=end_date2)"
   ],
   "id": "efe113bb0957567f",
   "outputs": [
    {
     "name": "stderr",
     "output_type": "stream",
     "text": [
      "[*********************100%***********************]  1 of 1 completed\n"
     ]
    }
   ],
   "execution_count": 30
  },
  {
   "metadata": {
    "id": "FmBT2zqukxTz",
    "executionInfo": {
     "status": "ok",
     "timestamp": 1727871402435,
     "user_tz": -240,
     "elapsed": 407,
     "user": {
      "displayName": "Hadelin de Ponteves",
      "userId": "15047218817161520419"
     }
    },
    "ExecuteTime": {
     "end_time": "2024-11-15T12:06:47.257829Z",
     "start_time": "2024-11-15T12:06:47.254067Z"
    }
   },
   "cell_type": "code",
   "source": [
    "#dataset_test = pd.read_csv('Data/Google_Stock_Price_Test.csv')\n",
    "real_stock_price = data2['Close'].values.reshape(-1, 1)"
   ],
   "id": "e183d2457e994071",
   "outputs": [],
   "execution_count": 31
  },
  {
   "metadata": {},
   "cell_type": "markdown",
   "source": "### Getting the predicted stock price of 2017",
   "id": "59c237ff04316070"
  },
  {
   "metadata": {
    "ExecuteTime": {
     "end_time": "2024-11-13T00:27:38.176440Z",
     "start_time": "2024-11-13T00:27:38.137769Z"
    }
   },
   "cell_type": "code",
   "outputs": [],
   "execution_count": 24,
   "source": "#regressor.save('rnn.keras')",
   "id": "bce7b1273fd60b64"
  },
  {
   "metadata": {
    "id": "emikTvUpk3Ck",
    "colab": {
     "base_uri": "https://localhost:8080/"
    },
    "executionInfo": {
     "status": "ok",
     "timestamp": 1727871405619,
     "user_tz": -240,
     "elapsed": 731,
     "user": {
      "displayName": "Hadelin de Ponteves",
      "userId": "15047218817161520419"
     }
    },
    "outputId": "68916b51-18e0-4414-ac41-69c0d20f1020",
    "ExecuteTime": {
     "end_time": "2024-11-15T12:08:06.821182Z",
     "start_time": "2024-11-15T12:08:06.515276Z"
    }
   },
   "cell_type": "code",
   "source": [
    "dataset_total = pd.concat([pd.DataFrame(data['Close'].values.reshape(-1, 1)), pd.DataFrame(data2['Close'].values.reshape(-1, 1))], axis=0)\n",
    "inputs = dataset_total[len(dataset_total) - len(data2['Close'].values.reshape(-1, 1)) - 60:].values\n",
    "inputs = inputs.reshape(-1, 1)\n",
    "inputs = sc.transform(inputs)\n",
    "X_test = []\n",
    "for i in range(60, 80):\n",
    "    X_test.append(inputs[i-60:i, 0])\n",
    "X_test = np.array(X_test)\n",
    "X_test = np.reshape(X_test, (X_test.shape[0], X_test.shape[1], 1))\n",
    "predicted_stock_price = regressor.predict(X_test)\n",
    "predicted_stock_price = sc.inverse_transform(predicted_stock_price)"
   ],
   "id": "a49629a40745705f",
   "outputs": [
    {
     "name": "stdout",
     "output_type": "stream",
     "text": [
      "\u001B[1m1/1\u001B[0m \u001B[32m━━━━━━━━━━━━━━━━━━━━\u001B[0m\u001B[37m\u001B[0m \u001B[1m0s\u001B[0m 274ms/step\n"
     ]
    }
   ],
   "execution_count": 34
  },
  {
   "metadata": {},
   "cell_type": "markdown",
   "source": "### Visualising the results",
   "id": "11d422a328ff0e83"
  },
  {
   "metadata": {
    "id": "8OUI8U49k9tH",
    "colab": {
     "base_uri": "https://localhost:8080/",
     "height": 472
    },
    "outputId": "6aa7f74b-296d-4cb6-c94d-01c654ff7763",
    "executionInfo": {
     "status": "ok",
     "timestamp": 1727871411050,
     "user_tz": -240,
     "elapsed": 1002,
     "user": {
      "displayName": "Hadelin de Ponteves",
      "userId": "15047218817161520419"
     }
    },
    "ExecuteTime": {
     "end_time": "2024-11-15T12:08:12.522165Z",
     "start_time": "2024-11-15T12:08:12.430031Z"
    }
   },
   "cell_type": "code",
   "source": [
    "plt.plot(real_stock_price, color = 'red', label = 'Real Google Stock Price')\n",
    "plt.plot(predicted_stock_price, color = 'blue', label = 'Predicted Google Stock Price')\n",
    "plt.title('Google Stock Price Prediction')\n",
    "plt.xlabel('Time')\n",
    "plt.ylabel('Google Stock Price')\n",
    "plt.legend()\n",
    "plt.show()"
   ],
   "id": "c3d97fb6831d611b",
   "outputs": [
    {
     "data": {
      "text/plain": [
       "<Figure size 640x480 with 1 Axes>"
      ],
      "image/png": "[encoded data removed]"
     },
     "metadata": {},
     "output_type": "display_data"
    }
   ],
   "execution_count": 35
  },
  {
   "metadata": {
    "ExecuteTime": {
     "end_time": "2024-11-15T16:32:16.480212Z",
     "start_time": "2024-11-15T16:32:16.139784Z"
    }
   },
   "cell_type": "code",
   "source": [
    "from sklearn.metrics import mean_absolute_error, mean_squared_error, mean_absolute_percentage_error\n",
    "import numpy as np\n",
    "\n",
    "# Supondo que `real_stock_price` e `predicted_stock_price` já estejam definidos\n",
    "# e são arrays numpy com os valores reais e previstos\n",
    "\n",
    "# Calculando MAE\n",
    "mae = mean_absolute_error(real_stock_price, predicted_stock_price)\n",
    "\n",
    "# Calculando RMSE\n",
    "rmse = np.sqrt(mean_squared_error(real_stock_price, predicted_stock_price))\n",
    "\n",
    "# Calculando MAPE\n",
    "mape = mean_absolute_percentage_error(real_stock_price, predicted_stock_price)\n",
    "\n",
    "print(f'MAE: {mae}')\n",
    "print(f'RMSE: {rmse}')\n",
    "print(f'MAPE: {mape}')"
   ],
   "id": "ed2c2cbd5bd2749d",
   "outputs": [
    {
     "name": "stdout",
     "output_type": "stream",
     "text": [
      "MAE: 3.965781402587891\n",
      "RMSE: 4.661703483893687\n",
      "MAPE: 0.021009705632771904\n"
     ]
    }
   ],
   "execution_count": 36
  }
 ],
 "metadata": {
  "kernelspec": {
   "display_name": "Python 3",
   "language": "python",
   "name": "python3"
  },
  "language_info": {
   "codemirror_mode": {
    "name": "ipython",
    "version": 2
   },
   "file_extension": ".py",
   "mimetype": "text/x-python",
   "name": "python",
   "nbconvert_exporter": "python",
   "pygments_lexer": "ipython2",
   "version": "2.7.6"
  }
 },
 "nbformat": 4,
 "nbformat_minor": 5
}
