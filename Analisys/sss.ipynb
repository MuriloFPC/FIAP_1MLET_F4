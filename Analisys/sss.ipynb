{
 "cells": [
  {
   "cell_type": "code",
   "id": "initial_id",
   "metadata": {
    "collapsed": true,
    "ExecuteTime": {
     "end_time": "2024-11-17T15:49:32.680368Z",
     "start_time": "2024-11-17T15:49:32.677376Z"
    }
   },
   "source": [
    "import yfinance as yf\n",
    "import numpy as np"
   ],
   "outputs": [],
   "execution_count": 9
  },
  {
   "metadata": {
    "ExecuteTime": {
     "end_time": "2024-11-17T15:49:32.884503Z",
     "start_time": "2024-11-17T15:49:32.687374Z"
    }
   },
   "cell_type": "code",
   "source": "dataset_train = yf.download(f'ITUB4.SA PETR4.SA', start='2024-11-01', end=None)",
   "id": "20c07bb0782d4e2b",
   "outputs": [
    {
     "name": "stderr",
     "output_type": "stream",
     "text": [
      "[*********************100%***********************]  2 of 2 completed\n"
     ]
    }
   ],
   "execution_count": 10
  },
  {
   "metadata": {
    "ExecuteTime": {
     "end_time": "2024-11-17T15:49:32.967465Z",
     "start_time": "2024-11-17T15:49:32.964175Z"
    }
   },
   "cell_type": "code",
   "source": [
    "dataset_train = dataset_train['Close'][f'PETR4.SA'].values.reshape(-1, 1)\n",
    "dataset_train = dataset_train[~np.isnan(dataset_train)].reshape(-1, 1)"
   ],
   "id": "e3fc241a3854d495",
   "outputs": [],
   "execution_count": 11
  },
  {
   "metadata": {
    "ExecuteTime": {
     "end_time": "2024-11-17T15:49:32.983977Z",
     "start_time": "2024-11-17T15:49:32.979996Z"
    }
   },
   "cell_type": "code",
   "source": "dataset_train",
   "id": "8abf8248660505f2",
   "outputs": [
    {
     "data": {
      "text/plain": [
       "array([[35.41999817],\n",
       "       [35.5       ],\n",
       "       [35.38999939],\n",
       "       [35.40000153],\n",
       "       [35.50999832],\n",
       "       [36.18000031],\n",
       "       [36.25      ],\n",
       "       [36.93000031],\n",
       "       [36.88000107],\n",
       "       [37.27000046]])"
      ]
     },
     "execution_count": 12,
     "metadata": {},
     "output_type": "execute_result"
    }
   ],
   "execution_count": 12
  }
 ],
 "metadata": {
  "kernelspec": {
   "display_name": "Python 3",
   "language": "python",
   "name": "python3"
  },
  "language_info": {
   "codemirror_mode": {
    "name": "ipython",
    "version": 2
   },
   "file_extension": ".py",
   "mimetype": "text/x-python",
   "name": "python",
   "nbconvert_exporter": "python",
   "pygments_lexer": "ipython2",
   "version": "2.7.6"
  }
 },
 "nbformat": 4,
 "nbformat_minor": 5
}
