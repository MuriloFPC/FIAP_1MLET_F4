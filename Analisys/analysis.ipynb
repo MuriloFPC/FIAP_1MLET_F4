{
 "cells": [
  {
   "cell_type": "code",
   "id": "initial_id",
   "metadata": {
    "collapsed": true,
    "ExecuteTime": {
     "end_time": "2024-11-20T18:51:38.956136Z",
     "start_time": "2024-11-20T18:51:38.952141Z"
    }
   },
   "source": [
    " import yfinance as yf\n",
    "import numpy as np\n",
    "import matplotlib.pyplot as plt\n",
    "import pandas as pd\n",
    "from sklearn.preprocessing import MinMaxScaler\n",
    "from datetime import datetime, timedelta\n",
    "from keras.models import Sequential\n",
    "from keras.layers import Dense\n",
    "from keras.layers import LSTM\n",
    "from keras.layers import Dropout\n",
    "from keras.layers import Input\n",
    "from sklearn.metrics import mean_absolute_error, mean_squared_error, mean_absolute_percentage_error\n",
    "import matplotlib.dates as mdates\n",
    "import time\n",
    "import os"
   ],
   "outputs": [],
   "execution_count": 86
  },
  {
   "metadata": {},
   "cell_type": "markdown",
   "source": "# PARAMS",
   "id": "30d9704bc704367b"
  },
  {
   "metadata": {
    "ExecuteTime": {
     "end_time": "2024-11-20T18:51:38.964579Z",
     "start_time": "2024-11-20T18:51:38.961144Z"
    }
   },
   "cell_type": "code",
   "source": [
    "epochs = 50\n",
    "previous_days = 30\n",
    "batch_size = 32\n",
    "stock = 'PETR4'\n",
    "days_to_predict = 30"
   ],
   "id": "b814c62e84e74975",
   "outputs": [],
   "execution_count": 87
  },
  {
   "metadata": {
    "ExecuteTime": {
     "end_time": "2024-11-20T18:51:38.977935Z",
     "start_time": "2024-11-20T18:51:38.975918Z"
    }
   },
   "cell_type": "code",
   "source": "sc = MinMaxScaler(feature_range=(0, 1))",
   "id": "5384e36f29fb8cfc",
   "outputs": [],
   "execution_count": 88
  },
  {
   "metadata": {
    "ExecuteTime": {
     "end_time": "2024-11-20T18:51:38.991446Z",
     "start_time": "2024-11-20T18:51:38.988964Z"
    }
   },
   "cell_type": "code",
   "source": "start_time = time.time()",
   "id": "ddd6c6840fe6c76c",
   "outputs": [],
   "execution_count": 89
  },
  {
   "metadata": {
    "ExecuteTime": {
     "end_time": "2024-11-20T19:03:47.742922Z",
     "start_time": "2024-11-20T19:03:47.681133Z"
    }
   },
   "cell_type": "code",
   "source": [
    "a = yf.download(f'{stock}.SA', start='2000-01-01', end=last_week_date.strftime('%Y-%m-%d'))\n",
    "a"
   ],
   "id": "b00c844d6c85498e",
   "outputs": [
    {
     "name": "stderr",
     "output_type": "stream",
     "text": [
      "[*********************100%***********************]  1 of 1 completed\n"
     ]
    },
    {
     "data": {
      "text/plain": [
       "Price                      Adj Close      Close       High        Low  \\\n",
       "Ticker                      PETR4.SA   PETR4.SA   PETR4.SA   PETR4.SA   \n",
       "Date                                                                    \n",
       "2000-01-03 00:00:00+00:00   1.384055   5.875000   5.875000   5.875000   \n",
       "2000-01-04 00:00:00+00:00   1.307490   5.550000   5.550000   5.550000   \n",
       "2000-01-05 00:00:00+00:00   1.294298   5.494000   5.494000   5.494000   \n",
       "2000-01-06 00:00:00+00:00   1.289822   5.475000   5.475000   5.475000   \n",
       "2000-01-07 00:00:00+00:00   1.295711   5.500000   5.500000   5.500000   \n",
       "...                              ...        ...        ...        ...   \n",
       "2024-10-14 00:00:00+00:00  37.709999  37.709999  37.900002  37.349998   \n",
       "2024-10-15 00:00:00+00:00  37.400002  37.400002  37.410000  37.060001   \n",
       "2024-10-16 00:00:00+00:00  37.209999  37.209999  37.580002  37.189999   \n",
       "2024-10-17 00:00:00+00:00  36.930000  36.930000  37.209999  36.689999   \n",
       "2024-10-18 00:00:00+00:00  36.830002  36.830002  37.070000  36.410000   \n",
       "\n",
       "Price                           Open       Volume  \n",
       "Ticker                      PETR4.SA     PETR4.SA  \n",
       "Date                                               \n",
       "2000-01-03 00:00:00+00:00   5.875000  35389440000  \n",
       "2000-01-04 00:00:00+00:00   5.550000  28861440000  \n",
       "2000-01-05 00:00:00+00:00   5.494000  43033600000  \n",
       "2000-01-06 00:00:00+00:00   5.475000  34055680000  \n",
       "2000-01-07 00:00:00+00:00   5.500000  20912640000  \n",
       "...                              ...          ...  \n",
       "2024-10-14 00:00:00+00:00  37.470001     22279000  \n",
       "2024-10-15 00:00:00+00:00  37.209999     28204600  \n",
       "2024-10-16 00:00:00+00:00  37.549999     23041200  \n",
       "2024-10-17 00:00:00+00:00  37.209999     22174300  \n",
       "2024-10-18 00:00:00+00:00  36.980000     32000800  \n",
       "\n",
       "[6230 rows x 6 columns]"
      ],
      "text/html": [
       "<div>\n",
       "<style scoped>\n",
       "    .dataframe tbody tr th:only-of-type {\n",
       "        vertical-align: middle;\n",
       "    }\n",
       "\n",
       "    .dataframe tbody tr th {\n",
       "        vertical-align: top;\n",
       "    }\n",
       "\n",
       "    .dataframe thead tr th {\n",
       "        text-align: left;\n",
       "    }\n",
       "\n",
       "    .dataframe thead tr:last-of-type th {\n",
       "        text-align: right;\n",
       "    }\n",
       "</style>\n",
       "<table border=\"1\" class=\"dataframe\">\n",
       "  <thead>\n",
       "    <tr>\n",
       "      <th>Price</th>\n",
       "      <th>Adj Close</th>\n",
       "      <th>Close</th>\n",
       "      <th>High</th>\n",
       "      <th>Low</th>\n",
       "      <th>Open</th>\n",
       "      <th>Volume</th>\n",
       "    </tr>\n",
       "    <tr>\n",
       "      <th>Ticker</th>\n",
       "      <th>PETR4.SA</th>\n",
       "      <th>PETR4.SA</th>\n",
       "      <th>PETR4.SA</th>\n",
       "      <th>PETR4.SA</th>\n",
       "      <th>PETR4.SA</th>\n",
       "      <th>PETR4.SA</th>\n",
       "    </tr>\n",
       "    <tr>\n",
       "      <th>Date</th>\n",
       "      <th></th>\n",
       "      <th></th>\n",
       "      <th></th>\n",
       "      <th></th>\n",
       "      <th></th>\n",
       "      <th></th>\n",
       "    </tr>\n",
       "  </thead>\n",
       "  <tbody>\n",
       "    <tr>\n",
       "      <th>2000-01-03 00:00:00+00:00</th>\n",
       "      <td>1.384055</td>\n",
       "      <td>5.875000</td>\n",
       "      <td>5.875000</td>\n",
       "      <td>5.875000</td>\n",
       "      <td>5.875000</td>\n",
       "      <td>35389440000</td>\n",
       "    </tr>\n",
       "    <tr>\n",
       "      <th>2000-01-04 00:00:00+00:00</th>\n",
       "      <td>1.307490</td>\n",
       "      <td>5.550000</td>\n",
       "      <td>5.550000</td>\n",
       "      <td>5.550000</td>\n",
       "      <td>5.550000</td>\n",
       "      <td>28861440000</td>\n",
       "    </tr>\n",
       "    <tr>\n",
       "      <th>2000-01-05 00:00:00+00:00</th>\n",
       "      <td>1.294298</td>\n",
       "      <td>5.494000</td>\n",
       "      <td>5.494000</td>\n",
       "      <td>5.494000</td>\n",
       "      <td>5.494000</td>\n",
       "      <td>43033600000</td>\n",
       "    </tr>\n",
       "    <tr>\n",
       "      <th>2000-01-06 00:00:00+00:00</th>\n",
       "      <td>1.289822</td>\n",
       "      <td>5.475000</td>\n",
       "      <td>5.475000</td>\n",
       "      <td>5.475000</td>\n",
       "      <td>5.475000</td>\n",
       "      <td>34055680000</td>\n",
       "    </tr>\n",
       "    <tr>\n",
       "      <th>2000-01-07 00:00:00+00:00</th>\n",
       "      <td>1.295711</td>\n",
       "      <td>5.500000</td>\n",
       "      <td>5.500000</td>\n",
       "      <td>5.500000</td>\n",
       "      <td>5.500000</td>\n",
       "      <td>20912640000</td>\n",
       "    </tr>\n",
       "    <tr>\n",
       "      <th>...</th>\n",
       "      <td>...</td>\n",
       "      <td>...</td>\n",
       "      <td>...</td>\n",
       "      <td>...</td>\n",
       "      <td>...</td>\n",
       "      <td>...</td>\n",
       "    </tr>\n",
       "    <tr>\n",
       "      <th>2024-10-14 00:00:00+00:00</th>\n",
       "      <td>37.709999</td>\n",
       "      <td>37.709999</td>\n",
       "      <td>37.900002</td>\n",
       "      <td>37.349998</td>\n",
       "      <td>37.470001</td>\n",
       "      <td>22279000</td>\n",
       "    </tr>\n",
       "    <tr>\n",
       "      <th>2024-10-15 00:00:00+00:00</th>\n",
       "      <td>37.400002</td>\n",
       "      <td>37.400002</td>\n",
       "      <td>37.410000</td>\n",
       "      <td>37.060001</td>\n",
       "      <td>37.209999</td>\n",
       "      <td>28204600</td>\n",
       "    </tr>\n",
       "    <tr>\n",
       "      <th>2024-10-16 00:00:00+00:00</th>\n",
       "      <td>37.209999</td>\n",
       "      <td>37.209999</td>\n",
       "      <td>37.580002</td>\n",
       "      <td>37.189999</td>\n",
       "      <td>37.549999</td>\n",
       "      <td>23041200</td>\n",
       "    </tr>\n",
       "    <tr>\n",
       "      <th>2024-10-17 00:00:00+00:00</th>\n",
       "      <td>36.930000</td>\n",
       "      <td>36.930000</td>\n",
       "      <td>37.209999</td>\n",
       "      <td>36.689999</td>\n",
       "      <td>37.209999</td>\n",
       "      <td>22174300</td>\n",
       "    </tr>\n",
       "    <tr>\n",
       "      <th>2024-10-18 00:00:00+00:00</th>\n",
       "      <td>36.830002</td>\n",
       "      <td>36.830002</td>\n",
       "      <td>37.070000</td>\n",
       "      <td>36.410000</td>\n",
       "      <td>36.980000</td>\n",
       "      <td>32000800</td>\n",
       "    </tr>\n",
       "  </tbody>\n",
       "</table>\n",
       "<p>6230 rows × 6 columns</p>\n",
       "</div>"
      ]
     },
     "execution_count": 100,
     "metadata": {},
     "output_type": "execute_result"
    }
   ],
   "execution_count": 100
  },
  {
   "metadata": {
    "ExecuteTime": {
     "end_time": "2024-11-20T19:04:25.089903Z",
     "start_time": "2024-11-20T19:04:25.066128Z"
    }
   },
   "cell_type": "code",
   "source": [
    "b = yf.download(f'{stock}.SA', start=last_week_date.strftime('%Y-%m-%d'), end=datetime.now().strftime('%Y-%m-%d'))\n",
    "b"
   ],
   "id": "395173f5004a9deb",
   "outputs": [
    {
     "name": "stderr",
     "output_type": "stream",
     "text": [
      "[*********************100%***********************]  1 of 1 completed\n"
     ]
    },
    {
     "data": {
      "text/plain": [
       "Price                      Adj Close      Close       High        Low  \\\n",
       "Ticker                      PETR4.SA   PETR4.SA   PETR4.SA   PETR4.SA   \n",
       "Date                                                                    \n",
       "2024-10-21 00:00:00+00:00  36.250000  36.250000  37.049999  36.200001   \n",
       "2024-10-22 00:00:00+00:00  36.110001  36.110001  36.299999  35.990002   \n",
       "2024-10-23 00:00:00+00:00  35.660000  35.660000  35.939999  35.570000   \n",
       "2024-10-24 00:00:00+00:00  35.900002  35.900002  36.029999  35.560001   \n",
       "2024-10-25 00:00:00+00:00  36.150002  36.150002  36.490002  35.849998   \n",
       "2024-10-28 00:00:00+00:00  36.090000  36.090000  36.130001  35.340000   \n",
       "2024-10-29 00:00:00+00:00  36.009998  36.009998  36.419998  35.799999   \n",
       "2024-10-30 00:00:00+00:00  35.849998  35.849998  36.369999  35.849998   \n",
       "2024-10-31 00:00:00+00:00  35.910000  35.910000  36.049999  35.630001   \n",
       "2024-11-01 00:00:00+00:00  35.419998  35.419998  36.369999  35.299999   \n",
       "2024-11-04 00:00:00+00:00  35.500000  35.500000  35.950001  35.380001   \n",
       "2024-11-05 00:00:00+00:00  35.389999  35.389999  35.599998  35.029999   \n",
       "2024-11-06 00:00:00+00:00  35.400002  35.400002  35.459999  35.040001   \n",
       "2024-11-07 00:00:00+00:00  35.509998  35.509998  35.889999  35.270000   \n",
       "2024-11-08 00:00:00+00:00  36.180000  36.180000  36.320000  35.540001   \n",
       "2024-11-11 00:00:00+00:00  36.250000  36.250000  36.419998  35.900002   \n",
       "2024-11-12 00:00:00+00:00  36.930000  36.930000  37.110001  36.340000   \n",
       "2024-11-13 00:00:00+00:00  36.880001  36.880001  37.070000  36.529999   \n",
       "2024-11-14 00:00:00+00:00  37.270000  37.270000  37.330002  36.860001   \n",
       "2024-11-18 00:00:00+00:00  38.200001  38.200001  38.299999  37.200001   \n",
       "2024-11-19 00:00:00+00:00  37.799999  37.799999  38.299999  37.650002   \n",
       "\n",
       "Price                           Open    Volume  \n",
       "Ticker                      PETR4.SA  PETR4.SA  \n",
       "Date                                            \n",
       "2024-10-21 00:00:00+00:00  37.000000  28390000  \n",
       "2024-10-22 00:00:00+00:00  36.200001  29144300  \n",
       "2024-10-23 00:00:00+00:00  35.910000  30769100  \n",
       "2024-10-24 00:00:00+00:00  35.849998  23058900  \n",
       "2024-10-25 00:00:00+00:00  35.959999  32585900  \n",
       "2024-10-28 00:00:00+00:00  35.490002  27507100  \n",
       "2024-10-29 00:00:00+00:00  36.330002  26090200  \n",
       "2024-10-30 00:00:00+00:00  36.119999  26144700  \n",
       "2024-10-31 00:00:00+00:00  35.869999  25597000  \n",
       "2024-11-01 00:00:00+00:00  36.200001  30605300  \n",
       "2024-11-04 00:00:00+00:00  35.900002  24003600  \n",
       "2024-11-05 00:00:00+00:00  35.500000  23990600  \n",
       "2024-11-06 00:00:00+00:00  35.049999  28440800  \n",
       "2024-11-07 00:00:00+00:00  35.490002  34081200  \n",
       "2024-11-08 00:00:00+00:00  35.849998  49865100  \n",
       "2024-11-11 00:00:00+00:00  35.990002  21446300  \n",
       "2024-11-12 00:00:00+00:00  36.360001  39412300  \n",
       "2024-11-13 00:00:00+00:00  36.950001  34090000  \n",
       "2024-11-14 00:00:00+00:00  36.919998  30262100  \n",
       "2024-11-18 00:00:00+00:00  37.200001  39004100  \n",
       "2024-11-19 00:00:00+00:00  38.099998  26002700  "
      ],
      "text/html": [
       "<div>\n",
       "<style scoped>\n",
       "    .dataframe tbody tr th:only-of-type {\n",
       "        vertical-align: middle;\n",
       "    }\n",
       "\n",
       "    .dataframe tbody tr th {\n",
       "        vertical-align: top;\n",
       "    }\n",
       "\n",
       "    .dataframe thead tr th {\n",
       "        text-align: left;\n",
       "    }\n",
       "\n",
       "    .dataframe thead tr:last-of-type th {\n",
       "        text-align: right;\n",
       "    }\n",
       "</style>\n",
       "<table border=\"1\" class=\"dataframe\">\n",
       "  <thead>\n",
       "    <tr>\n",
       "      <th>Price</th>\n",
       "      <th>Adj Close</th>\n",
       "      <th>Close</th>\n",
       "      <th>High</th>\n",
       "      <th>Low</th>\n",
       "      <th>Open</th>\n",
       "      <th>Volume</th>\n",
       "    </tr>\n",
       "    <tr>\n",
       "      <th>Ticker</th>\n",
       "      <th>PETR4.SA</th>\n",
       "      <th>PETR4.SA</th>\n",
       "      <th>PETR4.SA</th>\n",
       "      <th>PETR4.SA</th>\n",
       "      <th>PETR4.SA</th>\n",
       "      <th>PETR4.SA</th>\n",
       "    </tr>\n",
       "    <tr>\n",
       "      <th>Date</th>\n",
       "      <th></th>\n",
       "      <th></th>\n",
       "      <th></th>\n",
       "      <th></th>\n",
       "      <th></th>\n",
       "      <th></th>\n",
       "    </tr>\n",
       "  </thead>\n",
       "  <tbody>\n",
       "    <tr>\n",
       "      <th>2024-10-21 00:00:00+00:00</th>\n",
       "      <td>36.250000</td>\n",
       "      <td>36.250000</td>\n",
       "      <td>37.049999</td>\n",
       "      <td>36.200001</td>\n",
       "      <td>37.000000</td>\n",
       "      <td>28390000</td>\n",
       "    </tr>\n",
       "    <tr>\n",
       "      <th>2024-10-22 00:00:00+00:00</th>\n",
       "      <td>36.110001</td>\n",
       "      <td>36.110001</td>\n",
       "      <td>36.299999</td>\n",
       "      <td>35.990002</td>\n",
       "      <td>36.200001</td>\n",
       "      <td>29144300</td>\n",
       "    </tr>\n",
       "    <tr>\n",
       "      <th>2024-10-23 00:00:00+00:00</th>\n",
       "      <td>35.660000</td>\n",
       "      <td>35.660000</td>\n",
       "      <td>35.939999</td>\n",
       "      <td>35.570000</td>\n",
       "      <td>35.910000</td>\n",
       "      <td>30769100</td>\n",
       "    </tr>\n",
       "    <tr>\n",
       "      <th>2024-10-24 00:00:00+00:00</th>\n",
       "      <td>35.900002</td>\n",
       "      <td>35.900002</td>\n",
       "      <td>36.029999</td>\n",
       "      <td>35.560001</td>\n",
       "      <td>35.849998</td>\n",
       "      <td>23058900</td>\n",
       "    </tr>\n",
       "    <tr>\n",
       "      <th>2024-10-25 00:00:00+00:00</th>\n",
       "      <td>36.150002</td>\n",
       "      <td>36.150002</td>\n",
       "      <td>36.490002</td>\n",
       "      <td>35.849998</td>\n",
       "      <td>35.959999</td>\n",
       "      <td>32585900</td>\n",
       "    </tr>\n",
       "    <tr>\n",
       "      <th>2024-10-28 00:00:00+00:00</th>\n",
       "      <td>36.090000</td>\n",
       "      <td>36.090000</td>\n",
       "      <td>36.130001</td>\n",
       "      <td>35.340000</td>\n",
       "      <td>35.490002</td>\n",
       "      <td>27507100</td>\n",
       "    </tr>\n",
       "    <tr>\n",
       "      <th>2024-10-29 00:00:00+00:00</th>\n",
       "      <td>36.009998</td>\n",
       "      <td>36.009998</td>\n",
       "      <td>36.419998</td>\n",
       "      <td>35.799999</td>\n",
       "      <td>36.330002</td>\n",
       "      <td>26090200</td>\n",
       "    </tr>\n",
       "    <tr>\n",
       "      <th>2024-10-30 00:00:00+00:00</th>\n",
       "      <td>35.849998</td>\n",
       "      <td>35.849998</td>\n",
       "      <td>36.369999</td>\n",
       "      <td>35.849998</td>\n",
       "      <td>36.119999</td>\n",
       "      <td>26144700</td>\n",
       "    </tr>\n",
       "    <tr>\n",
       "      <th>2024-10-31 00:00:00+00:00</th>\n",
       "      <td>35.910000</td>\n",
       "      <td>35.910000</td>\n",
       "      <td>36.049999</td>\n",
       "      <td>35.630001</td>\n",
       "      <td>35.869999</td>\n",
       "      <td>25597000</td>\n",
       "    </tr>\n",
       "    <tr>\n",
       "      <th>2024-11-01 00:00:00+00:00</th>\n",
       "      <td>35.419998</td>\n",
       "      <td>35.419998</td>\n",
       "      <td>36.369999</td>\n",
       "      <td>35.299999</td>\n",
       "      <td>36.200001</td>\n",
       "      <td>30605300</td>\n",
       "    </tr>\n",
       "    <tr>\n",
       "      <th>2024-11-04 00:00:00+00:00</th>\n",
       "      <td>35.500000</td>\n",
       "      <td>35.500000</td>\n",
       "      <td>35.950001</td>\n",
       "      <td>35.380001</td>\n",
       "      <td>35.900002</td>\n",
       "      <td>24003600</td>\n",
       "    </tr>\n",
       "    <tr>\n",
       "      <th>2024-11-05 00:00:00+00:00</th>\n",
       "      <td>35.389999</td>\n",
       "      <td>35.389999</td>\n",
       "      <td>35.599998</td>\n",
       "      <td>35.029999</td>\n",
       "      <td>35.500000</td>\n",
       "      <td>23990600</td>\n",
       "    </tr>\n",
       "    <tr>\n",
       "      <th>2024-11-06 00:00:00+00:00</th>\n",
       "      <td>35.400002</td>\n",
       "      <td>35.400002</td>\n",
       "      <td>35.459999</td>\n",
       "      <td>35.040001</td>\n",
       "      <td>35.049999</td>\n",
       "      <td>28440800</td>\n",
       "    </tr>\n",
       "    <tr>\n",
       "      <th>2024-11-07 00:00:00+00:00</th>\n",
       "      <td>35.509998</td>\n",
       "      <td>35.509998</td>\n",
       "      <td>35.889999</td>\n",
       "      <td>35.270000</td>\n",
       "      <td>35.490002</td>\n",
       "      <td>34081200</td>\n",
       "    </tr>\n",
       "    <tr>\n",
       "      <th>2024-11-08 00:00:00+00:00</th>\n",
       "      <td>36.180000</td>\n",
       "      <td>36.180000</td>\n",
       "      <td>36.320000</td>\n",
       "      <td>35.540001</td>\n",
       "      <td>35.849998</td>\n",
       "      <td>49865100</td>\n",
       "    </tr>\n",
       "    <tr>\n",
       "      <th>2024-11-11 00:00:00+00:00</th>\n",
       "      <td>36.250000</td>\n",
       "      <td>36.250000</td>\n",
       "      <td>36.419998</td>\n",
       "      <td>35.900002</td>\n",
       "      <td>35.990002</td>\n",
       "      <td>21446300</td>\n",
       "    </tr>\n",
       "    <tr>\n",
       "      <th>2024-11-12 00:00:00+00:00</th>\n",
       "      <td>36.930000</td>\n",
       "      <td>36.930000</td>\n",
       "      <td>37.110001</td>\n",
       "      <td>36.340000</td>\n",
       "      <td>36.360001</td>\n",
       "      <td>39412300</td>\n",
       "    </tr>\n",
       "    <tr>\n",
       "      <th>2024-11-13 00:00:00+00:00</th>\n",
       "      <td>36.880001</td>\n",
       "      <td>36.880001</td>\n",
       "      <td>37.070000</td>\n",
       "      <td>36.529999</td>\n",
       "      <td>36.950001</td>\n",
       "      <td>34090000</td>\n",
       "    </tr>\n",
       "    <tr>\n",
       "      <th>2024-11-14 00:00:00+00:00</th>\n",
       "      <td>37.270000</td>\n",
       "      <td>37.270000</td>\n",
       "      <td>37.330002</td>\n",
       "      <td>36.860001</td>\n",
       "      <td>36.919998</td>\n",
       "      <td>30262100</td>\n",
       "    </tr>\n",
       "    <tr>\n",
       "      <th>2024-11-18 00:00:00+00:00</th>\n",
       "      <td>38.200001</td>\n",
       "      <td>38.200001</td>\n",
       "      <td>38.299999</td>\n",
       "      <td>37.200001</td>\n",
       "      <td>37.200001</td>\n",
       "      <td>39004100</td>\n",
       "    </tr>\n",
       "    <tr>\n",
       "      <th>2024-11-19 00:00:00+00:00</th>\n",
       "      <td>37.799999</td>\n",
       "      <td>37.799999</td>\n",
       "      <td>38.299999</td>\n",
       "      <td>37.650002</td>\n",
       "      <td>38.099998</td>\n",
       "      <td>26002700</td>\n",
       "    </tr>\n",
       "  </tbody>\n",
       "</table>\n",
       "</div>"
      ]
     },
     "execution_count": 101,
     "metadata": {},
     "output_type": "execute_result"
    }
   ],
   "execution_count": 101
  },
  {
   "metadata": {
    "ExecuteTime": {
     "end_time": "2024-11-20T18:51:44.606512Z",
     "start_time": "2024-11-20T18:51:39.003987Z"
    }
   },
   "cell_type": "code",
   "source": [
    "last_week_date = datetime.now() - timedelta(days=days_to_predict)\n",
    "dataset_train = yf.download(f'{stock}.SA', start='2000-01-01', end=last_week_date.strftime('%Y-%m-%d'))\n",
    "dataset_test = yf.download(f'{stock}.SA', start=last_week_date.strftime('%Y-%m-%d'), end=datetime.now().strftime('%Y-%m-%d'))"
   ],
   "id": "b5a9ffa4b0b6821c",
   "outputs": [
    {
     "name": "stderr",
     "output_type": "stream",
     "text": [
      "[*********************100%***********************]  1 of 1 completed\n",
      "[*********************100%***********************]  1 of 1 completed\n"
     ]
    }
   ],
   "execution_count": 90
  },
  {
   "metadata": {
    "ExecuteTime": {
     "end_time": "2024-11-20T19:05:21.145357Z",
     "start_time": "2024-11-20T19:05:21.140222Z"
    }
   },
   "cell_type": "code",
   "source": "",
   "id": "5504b7f63a140843",
   "outputs": [
    {
     "data": {
      "text/plain": [
       "[Timestamp('2024-10-21 00:00:00+0000', tz='UTC'),\n",
       " Timestamp('2024-10-22 00:00:00+0000', tz='UTC'),\n",
       " Timestamp('2024-10-23 00:00:00+0000', tz='UTC'),\n",
       " Timestamp('2024-10-24 00:00:00+0000', tz='UTC'),\n",
       " Timestamp('2024-10-25 00:00:00+0000', tz='UTC'),\n",
       " Timestamp('2024-10-28 00:00:00+0000', tz='UTC'),\n",
       " Timestamp('2024-10-29 00:00:00+0000', tz='UTC'),\n",
       " Timestamp('2024-10-30 00:00:00+0000', tz='UTC'),\n",
       " Timestamp('2024-10-31 00:00:00+0000', tz='UTC'),\n",
       " Timestamp('2024-11-01 00:00:00+0000', tz='UTC'),\n",
       " Timestamp('2024-11-04 00:00:00+0000', tz='UTC'),\n",
       " Timestamp('2024-11-05 00:00:00+0000', tz='UTC'),\n",
       " Timestamp('2024-11-06 00:00:00+0000', tz='UTC'),\n",
       " Timestamp('2024-11-07 00:00:00+0000', tz='UTC'),\n",
       " Timestamp('2024-11-08 00:00:00+0000', tz='UTC'),\n",
       " Timestamp('2024-11-11 00:00:00+0000', tz='UTC'),\n",
       " Timestamp('2024-11-12 00:00:00+0000', tz='UTC'),\n",
       " Timestamp('2024-11-13 00:00:00+0000', tz='UTC'),\n",
       " Timestamp('2024-11-14 00:00:00+0000', tz='UTC'),\n",
       " Timestamp('2024-11-18 00:00:00+0000', tz='UTC'),\n",
       " Timestamp('2024-11-19 00:00:00+0000', tz='UTC')]"
      ]
     },
     "execution_count": 102,
     "metadata": {},
     "output_type": "execute_result"
    }
   ],
   "execution_count": 102
  },
  {
   "metadata": {
    "ExecuteTime": {
     "end_time": "2024-11-20T18:51:44.636913Z",
     "start_time": "2024-11-20T18:51:44.630988Z"
    }
   },
   "cell_type": "code",
   "source": [
    "dataset_train = dataset_train['Close'][f'{stock}.SA'].values.reshape(-1, 1)\n",
    "dataset_train = dataset_train[~np.isnan(dataset_train)].reshape(-1, 1)\n",
    "\n",
    "test_dates = dataset_test['Close'][f'{stock}.SA'].keys().to_list()\n",
    "\n",
    "dataset_test = dataset_test['Close'][f'{stock}.SA'].values.reshape(-1, 1)\n",
    "dataset_test = dataset_test[~np.isnan(dataset_test)]\n"
   ],
   "id": "8c216457308501c6",
   "outputs": [],
   "execution_count": 91
  },
  {
   "metadata": {
    "ExecuteTime": {
     "end_time": "2024-11-20T18:51:44.642947Z",
     "start_time": "2024-11-20T18:51:44.638922Z"
    }
   },
   "cell_type": "code",
   "source": "training_set_scaled = sc.fit_transform(dataset_train)",
   "id": "c98114363fe467ef",
   "outputs": [],
   "execution_count": 92
  },
  {
   "metadata": {
    "ExecuteTime": {
     "end_time": "2024-11-20T18:51:44.661356Z",
     "start_time": "2024-11-20T18:51:44.653977Z"
    }
   },
   "cell_type": "code",
   "source": [
    "X_train = []\n",
    "y_train = []\n",
    "for i in range(previous_days, len(training_set_scaled)):\n",
    "    X_train.append(training_set_scaled[i - previous_days:i, 0])\n",
    "    y_train.append(training_set_scaled[i, 0])\n",
    "\n",
    "X_train = np.array(X_train)\n",
    "X_train = np.reshape(X_train, (X_train.shape[0], X_train.shape[1], 1))\n",
    "\n",
    "y_train = np.array(y_train)"
   ],
   "id": "2fd593bd7e00b161",
   "outputs": [],
   "execution_count": 93
  },
  {
   "metadata": {
    "ExecuteTime": {
     "end_time": "2024-11-20T18:51:44.749542Z",
     "start_time": "2024-11-20T18:51:44.674535Z"
    }
   },
   "cell_type": "code",
   "source": [
    "regressor = Sequential()\n",
    "regressor.add(Input(shape=(X_train.shape[1], 1)))\n",
    "\n",
    "# Add the LSTM layer and Dropout regularisation\n",
    "regressor.add(LSTM(units=50, return_sequences=True))\n",
    "regressor.add(Dropout(0.2))\n",
    "regressor.add(LSTM(units=50, return_sequences=True))\n",
    "regressor.add(Dropout(0.2))\n",
    "regressor.add(LSTM(units=50, return_sequences=True))\n",
    "regressor.add(Dropout(0.2))\n",
    "regressor.add(LSTM(units=50))\n",
    "regressor.add(Dropout(0.2))\n",
    "regressor.add(Dense(units=1))\n",
    "regressor.compile(optimizer='adam', loss='mean_squared_error')"
   ],
   "id": "df1b2dc11fbf4abb",
   "outputs": [],
   "execution_count": 94
  },
  {
   "metadata": {
    "ExecuteTime": {
     "end_time": "2024-11-20T18:54:28.578019Z",
     "start_time": "2024-11-20T18:51:44.763640Z"
    }
   },
   "cell_type": "code",
   "source": "regressor.fit(X_train, y_train, epochs=epochs, batch_size=batch_size)",
   "id": "bb280e397818a1f2",
   "outputs": [
    {
     "name": "stdout",
     "output_type": "stream",
     "text": [
      "Epoch 1/50\n",
      "\u001B[1m194/194\u001B[0m \u001B[32m━━━━━━━━━━━━━━━━━━━━\u001B[0m\u001B[37m\u001B[0m \u001B[1m7s\u001B[0m 14ms/step - loss: 0.0195\n",
      "Epoch 2/50\n",
      "\u001B[1m194/194\u001B[0m \u001B[32m━━━━━━━━━━━━━━━━━━━━\u001B[0m\u001B[37m\u001B[0m \u001B[1m3s\u001B[0m 14ms/step - loss: 0.0027\n",
      "Epoch 3/50\n",
      "\u001B[1m194/194\u001B[0m \u001B[32m━━━━━━━━━━━━━━━━━━━━\u001B[0m\u001B[37m\u001B[0m \u001B[1m3s\u001B[0m 14ms/step - loss: 0.0023\n",
      "Epoch 4/50\n",
      "\u001B[1m194/194\u001B[0m \u001B[32m━━━━━━━━━━━━━━━━━━━━\u001B[0m\u001B[37m\u001B[0m \u001B[1m3s\u001B[0m 14ms/step - loss: 0.0020\n",
      "Epoch 5/50\n",
      "\u001B[1m194/194\u001B[0m \u001B[32m━━━━━━━━━━━━━━━━━━━━\u001B[0m\u001B[37m\u001B[0m \u001B[1m3s\u001B[0m 14ms/step - loss: 0.0020\n",
      "Epoch 6/50\n",
      "\u001B[1m194/194\u001B[0m \u001B[32m━━━━━━━━━━━━━━━━━━━━\u001B[0m\u001B[37m\u001B[0m \u001B[1m3s\u001B[0m 14ms/step - loss: 0.0016\n",
      "Epoch 7/50\n",
      "\u001B[1m194/194\u001B[0m \u001B[32m━━━━━━━━━━━━━━━━━━━━\u001B[0m\u001B[37m\u001B[0m \u001B[1m3s\u001B[0m 14ms/step - loss: 0.0015\n",
      "Epoch 8/50\n",
      "\u001B[1m194/194\u001B[0m \u001B[32m━━━━━━━━━━━━━━━━━━━━\u001B[0m\u001B[37m\u001B[0m \u001B[1m3s\u001B[0m 14ms/step - loss: 0.0013\n",
      "Epoch 9/50\n",
      "\u001B[1m194/194\u001B[0m \u001B[32m━━━━━━━━━━━━━━━━━━━━\u001B[0m\u001B[37m\u001B[0m \u001B[1m3s\u001B[0m 14ms/step - loss: 0.0013\n",
      "Epoch 10/50\n",
      "\u001B[1m194/194\u001B[0m \u001B[32m━━━━━━━━━━━━━━━━━━━━\u001B[0m\u001B[37m\u001B[0m \u001B[1m3s\u001B[0m 14ms/step - loss: 0.0013\n",
      "Epoch 11/50\n",
      "\u001B[1m194/194\u001B[0m \u001B[32m━━━━━━━━━━━━━━━━━━━━\u001B[0m\u001B[37m\u001B[0m \u001B[1m3s\u001B[0m 15ms/step - loss: 0.0012\n",
      "Epoch 12/50\n",
      "\u001B[1m194/194\u001B[0m \u001B[32m━━━━━━━━━━━━━━━━━━━━\u001B[0m\u001B[37m\u001B[0m \u001B[1m3s\u001B[0m 14ms/step - loss: 0.0010\n",
      "Epoch 13/50\n",
      "\u001B[1m194/194\u001B[0m \u001B[32m━━━━━━━━━━━━━━━━━━━━\u001B[0m\u001B[37m\u001B[0m \u001B[1m3s\u001B[0m 15ms/step - loss: 9.4607e-04\n",
      "Epoch 14/50\n",
      "\u001B[1m194/194\u001B[0m \u001B[32m━━━━━━━━━━━━━━━━━━━━\u001B[0m\u001B[37m\u001B[0m \u001B[1m3s\u001B[0m 16ms/step - loss: 0.0010\n",
      "Epoch 15/50\n",
      "\u001B[1m194/194\u001B[0m \u001B[32m━━━━━━━━━━━━━━━━━━━━\u001B[0m\u001B[37m\u001B[0m \u001B[1m3s\u001B[0m 16ms/step - loss: 0.0010\n",
      "Epoch 16/50\n",
      "\u001B[1m194/194\u001B[0m \u001B[32m━━━━━━━━━━━━━━━━━━━━\u001B[0m\u001B[37m\u001B[0m \u001B[1m4s\u001B[0m 19ms/step - loss: 9.9037e-04\n",
      "Epoch 17/50\n",
      "\u001B[1m194/194\u001B[0m \u001B[32m━━━━━━━━━━━━━━━━━━━━\u001B[0m\u001B[37m\u001B[0m \u001B[1m4s\u001B[0m 18ms/step - loss: 8.4216e-04\n",
      "Epoch 18/50\n",
      "\u001B[1m194/194\u001B[0m \u001B[32m━━━━━━━━━━━━━━━━━━━━\u001B[0m\u001B[37m\u001B[0m \u001B[1m3s\u001B[0m 15ms/step - loss: 8.4064e-04\n",
      "Epoch 19/50\n",
      "\u001B[1m194/194\u001B[0m \u001B[32m━━━━━━━━━━━━━━━━━━━━\u001B[0m\u001B[37m\u001B[0m \u001B[1m3s\u001B[0m 17ms/step - loss: 7.9696e-04\n",
      "Epoch 20/50\n",
      "\u001B[1m194/194\u001B[0m \u001B[32m━━━━━━━━━━━━━━━━━━━━\u001B[0m\u001B[37m\u001B[0m \u001B[1m4s\u001B[0m 20ms/step - loss: 8.2643e-04\n",
      "Epoch 21/50\n",
      "\u001B[1m194/194\u001B[0m \u001B[32m━━━━━━━━━━━━━━━━━━━━\u001B[0m\u001B[37m\u001B[0m \u001B[1m4s\u001B[0m 23ms/step - loss: 7.8674e-04\n",
      "Epoch 22/50\n",
      "\u001B[1m194/194\u001B[0m \u001B[32m━━━━━━━━━━━━━━━━━━━━\u001B[0m\u001B[37m\u001B[0m \u001B[1m4s\u001B[0m 22ms/step - loss: 7.6874e-04\n",
      "Epoch 23/50\n",
      "\u001B[1m194/194\u001B[0m \u001B[32m━━━━━━━━━━━━━━━━━━━━\u001B[0m\u001B[37m\u001B[0m \u001B[1m4s\u001B[0m 22ms/step - loss: 7.1642e-04\n",
      "Epoch 24/50\n",
      "\u001B[1m194/194\u001B[0m \u001B[32m━━━━━━━━━━━━━━━━━━━━\u001B[0m\u001B[37m\u001B[0m \u001B[1m5s\u001B[0m 23ms/step - loss: 7.1957e-04\n",
      "Epoch 25/50\n",
      "\u001B[1m194/194\u001B[0m \u001B[32m━━━━━━━━━━━━━━━━━━━━\u001B[0m\u001B[37m\u001B[0m \u001B[1m4s\u001B[0m 20ms/step - loss: 7.5022e-04\n",
      "Epoch 26/50\n",
      "\u001B[1m194/194\u001B[0m \u001B[32m━━━━━━━━━━━━━━━━━━━━\u001B[0m\u001B[37m\u001B[0m \u001B[1m4s\u001B[0m 21ms/step - loss: 7.1654e-04\n",
      "Epoch 27/50\n",
      "\u001B[1m194/194\u001B[0m \u001B[32m━━━━━━━━━━━━━━━━━━━━\u001B[0m\u001B[37m\u001B[0m \u001B[1m4s\u001B[0m 18ms/step - loss: 6.8827e-04\n",
      "Epoch 28/50\n",
      "\u001B[1m194/194\u001B[0m \u001B[32m━━━━━━━━━━━━━━━━━━━━\u001B[0m\u001B[37m\u001B[0m \u001B[1m3s\u001B[0m 16ms/step - loss: 6.6389e-04\n",
      "Epoch 29/50\n",
      "\u001B[1m194/194\u001B[0m \u001B[32m━━━━━━━━━━━━━━━━━━━━\u001B[0m\u001B[37m\u001B[0m \u001B[1m3s\u001B[0m 15ms/step - loss: 6.8655e-04\n",
      "Epoch 30/50\n",
      "\u001B[1m194/194\u001B[0m \u001B[32m━━━━━━━━━━━━━━━━━━━━\u001B[0m\u001B[37m\u001B[0m \u001B[1m3s\u001B[0m 14ms/step - loss: 6.6206e-04\n",
      "Epoch 31/50\n",
      "\u001B[1m194/194\u001B[0m \u001B[32m━━━━━━━━━━━━━━━━━━━━\u001B[0m\u001B[37m\u001B[0m \u001B[1m3s\u001B[0m 15ms/step - loss: 7.3126e-04\n",
      "Epoch 32/50\n",
      "\u001B[1m194/194\u001B[0m \u001B[32m━━━━━━━━━━━━━━━━━━━━\u001B[0m\u001B[37m\u001B[0m \u001B[1m3s\u001B[0m 15ms/step - loss: 6.0666e-04\n",
      "Epoch 33/50\n",
      "\u001B[1m194/194\u001B[0m \u001B[32m━━━━━━━━━━━━━━━━━━━━\u001B[0m\u001B[37m\u001B[0m \u001B[1m3s\u001B[0m 15ms/step - loss: 6.8890e-04\n",
      "Epoch 34/50\n",
      "\u001B[1m194/194\u001B[0m \u001B[32m━━━━━━━━━━━━━━━━━━━━\u001B[0m\u001B[37m\u001B[0m \u001B[1m3s\u001B[0m 15ms/step - loss: 6.4612e-04\n",
      "Epoch 35/50\n",
      "\u001B[1m194/194\u001B[0m \u001B[32m━━━━━━━━━━━━━━━━━━━━\u001B[0m\u001B[37m\u001B[0m \u001B[1m3s\u001B[0m 15ms/step - loss: 6.7530e-04\n",
      "Epoch 36/50\n",
      "\u001B[1m194/194\u001B[0m \u001B[32m━━━━━━━━━━━━━━━━━━━━\u001B[0m\u001B[37m\u001B[0m \u001B[1m3s\u001B[0m 15ms/step - loss: 5.6804e-04\n",
      "Epoch 37/50\n",
      "\u001B[1m194/194\u001B[0m \u001B[32m━━━━━━━━━━━━━━━━━━━━\u001B[0m\u001B[37m\u001B[0m \u001B[1m3s\u001B[0m 14ms/step - loss: 6.1968e-04\n",
      "Epoch 38/50\n",
      "\u001B[1m194/194\u001B[0m \u001B[32m━━━━━━━━━━━━━━━━━━━━\u001B[0m\u001B[37m\u001B[0m \u001B[1m3s\u001B[0m 15ms/step - loss: 6.2596e-04\n",
      "Epoch 39/50\n",
      "\u001B[1m194/194\u001B[0m \u001B[32m━━━━━━━━━━━━━━━━━━━━\u001B[0m\u001B[37m\u001B[0m \u001B[1m3s\u001B[0m 14ms/step - loss: 6.2215e-04\n",
      "Epoch 40/50\n",
      "\u001B[1m194/194\u001B[0m \u001B[32m━━━━━━━━━━━━━━━━━━━━\u001B[0m\u001B[37m\u001B[0m \u001B[1m3s\u001B[0m 15ms/step - loss: 5.8278e-04\n",
      "Epoch 41/50\n",
      "\u001B[1m194/194\u001B[0m \u001B[32m━━━━━━━━━━━━━━━━━━━━\u001B[0m\u001B[37m\u001B[0m \u001B[1m3s\u001B[0m 17ms/step - loss: 6.3300e-04\n",
      "Epoch 42/50\n",
      "\u001B[1m194/194\u001B[0m \u001B[32m━━━━━━━━━━━━━━━━━━━━\u001B[0m\u001B[37m\u001B[0m \u001B[1m3s\u001B[0m 16ms/step - loss: 6.2140e-04\n",
      "Epoch 43/50\n",
      "\u001B[1m194/194\u001B[0m \u001B[32m━━━━━━━━━━━━━━━━━━━━\u001B[0m\u001B[37m\u001B[0m \u001B[1m3s\u001B[0m 16ms/step - loss: 5.9834e-04\n",
      "Epoch 44/50\n",
      "\u001B[1m194/194\u001B[0m \u001B[32m━━━━━━━━━━━━━━━━━━━━\u001B[0m\u001B[37m\u001B[0m \u001B[1m3s\u001B[0m 15ms/step - loss: 6.2495e-04\n",
      "Epoch 45/50\n",
      "\u001B[1m194/194\u001B[0m \u001B[32m━━━━━━━━━━━━━━━━━━━━\u001B[0m\u001B[37m\u001B[0m \u001B[1m3s\u001B[0m 15ms/step - loss: 5.7980e-04\n",
      "Epoch 46/50\n",
      "\u001B[1m194/194\u001B[0m \u001B[32m━━━━━━━━━━━━━━━━━━━━\u001B[0m\u001B[37m\u001B[0m \u001B[1m3s\u001B[0m 16ms/step - loss: 5.4723e-04\n",
      "Epoch 47/50\n",
      "\u001B[1m194/194\u001B[0m \u001B[32m━━━━━━━━━━━━━━━━━━━━\u001B[0m\u001B[37m\u001B[0m \u001B[1m5s\u001B[0m 24ms/step - loss: 5.4239e-04\n",
      "Epoch 48/50\n",
      "\u001B[1m194/194\u001B[0m \u001B[32m━━━━━━━━━━━━━━━━━━━━\u001B[0m\u001B[37m\u001B[0m \u001B[1m4s\u001B[0m 20ms/step - loss: 5.7990e-04\n",
      "Epoch 49/50\n",
      "\u001B[1m194/194\u001B[0m \u001B[32m━━━━━━━━━━━━━━━━━━━━\u001B[0m\u001B[37m\u001B[0m \u001B[1m3s\u001B[0m 16ms/step - loss: 5.8286e-04\n",
      "Epoch 50/50\n",
      "\u001B[1m194/194\u001B[0m \u001B[32m━━━━━━━━━━━━━━━━━━━━\u001B[0m\u001B[37m\u001B[0m \u001B[1m3s\u001B[0m 15ms/step - loss: 6.0579e-04\n"
     ]
    },
    {
     "data": {
      "text/plain": [
       "<keras.src.callbacks.history.History at 0x17c40087390>"
      ]
     },
     "execution_count": 95,
     "metadata": {},
     "output_type": "execute_result"
    }
   ],
   "execution_count": 95
  },
  {
   "metadata": {
    "ExecuteTime": {
     "end_time": "2024-11-20T18:54:28.985559Z",
     "start_time": "2024-11-20T18:54:28.620533Z"
    }
   },
   "cell_type": "code",
   "source": [
    "dataset_total = pd.concat(\n",
    "    [pd.DataFrame(dataset_train), pd.DataFrame(dataset_test)], axis=0)\n",
    "inputs = dataset_total[len(dataset_total) - len(dataset_test) - previous_days:].values\n",
    "inputs = inputs.reshape(-1, 1)\n",
    "inputs = sc.transform(inputs)\n",
    "X_test = []\n",
    "for i in range(previous_days, previous_days + len(dataset_test)):\n",
    "    X_test.append(inputs[i - previous_days:i, 0])\n",
    "X_test = np.array(X_test)\n",
    "X_test = np.reshape(X_test, (X_test.shape[0], X_test.shape[1], 1))\n",
    "predicted_stock_price = regressor.predict(X_test)\n",
    "predictPrice = sc.inverse_transform(predicted_stock_price)"
   ],
   "id": "5322c1df1f7e760b",
   "outputs": [
    {
     "name": "stdout",
     "output_type": "stream",
     "text": [
      "WARNING:tensorflow:6 out of the last 7 calls to <function TensorFlowTrainer.make_predict_function.<locals>.one_step_on_data_distributed at 0x0000017C47EFDA80> triggered tf.function retracing. Tracing is expensive and the excessive number of tracings could be due to (1) creating @tf.function repeatedly in a loop, (2) passing tensors with different shapes, (3) passing Python objects instead of tensors. For (1), please define your @tf.function outside of the loop. For (2), @tf.function has reduce_retracing=True option that can avoid unnecessary retracing. For (3), please refer to https://www.tensorflow.org/guide/function#controlling_retracing and https://www.tensorflow.org/api_docs/python/tf/function for  more details.\n",
      "\u001B[1m1/1\u001B[0m \u001B[32m━━━━━━━━━━━━━━━━━━━━\u001B[0m\u001B[37m\u001B[0m \u001B[1m0s\u001B[0m 334ms/step\n"
     ]
    }
   ],
   "execution_count": 96
  },
  {
   "metadata": {
    "ExecuteTime": {
     "end_time": "2024-11-20T18:54:29.173234Z",
     "start_time": "2024-11-20T18:54:28.998539Z"
    }
   },
   "cell_type": "code",
   "source": [
    "dates = pd.to_datetime(test_dates)\n",
    "\n",
    "plt.figure(figsize=(10, 6))\n",
    "plt.plot(dates, dataset_test, color='red', label=f'{stock} Stock Price')\n",
    "plt.plot(dates, predictPrice, color='blue', label=f'{stock} Price Prediction')\n",
    "plt.title(f'{stock} Price Prediction')\n",
    "plt.xlabel('Time')\n",
    "plt.ylabel(f'{stock} Stock Price')\n",
    "plt.legend()\n",
    "\n",
    "# Format the dates on the x-axis\n",
    "plt.gca().xaxis.set_major_formatter(mdates.DateFormatter('%d/%m/%Y'))\n",
    "plt.gca().xaxis.set_major_locator(mdates.DayLocator())\n",
    "plt.gcf().autofmt_xdate()  # Rotate date labels\n",
    "folder_name = f'{batch_size}_{epochs}_{previous_days}'\n",
    "os.mkdir(f'../Logs/Analysis/{folder_name}')\n",
    "plt.savefig(f'../Logs/Analysis/{folder_name}/{stock}.png')"
   ],
   "id": "9fb456413e0c9d4a",
   "outputs": [
    {
     "data": {
      "text/plain": [
       "<Figure size 1000x600 with 1 Axes>"
      ],
      "image/png": "[encoded data removed]"
     },
     "metadata": {},
     "output_type": "display_data"
    }
   ],
   "execution_count": 97
  },
  {
   "metadata": {
    "ExecuteTime": {
     "end_time": "2024-11-20T18:54:29.206515Z",
     "start_time": "2024-11-20T18:54:29.196573Z"
    }
   },
   "cell_type": "code",
   "source": [
    "mae = mean_absolute_error(dataset_test, predictPrice)\n",
    "\n",
    "# Calculando RMSE\n",
    "rmse = np.sqrt(mean_squared_error(dataset_test, predictPrice))\n",
    "\n",
    "# Calculando MAPE\n",
    "mape = mean_absolute_percentage_error(dataset_test, predictPrice)\n",
    "\n",
    "end_time = time.time()\n",
    "time_lapsed = end_time - start_time\n",
    "\n",
    "mins = time_lapsed // 60\n",
    "sec = time_lapsed % 60\n",
    "hours = mins // 60\n",
    "mins = mins % 60\n",
    "\n",
    "time_lapsed_message = \"Time Lapsed = {0}:{1}:{2}\".format(int(hours),int(mins),sec)\n",
    "\n",
    "print(\"Time Lapsed = {0}:{1}:{2}\".format(int(hours),int(mins),sec))\n",
    "\n",
    "with open(f'../Logs/Analysis/{folder_name}/{stock}_evaluation.txt', 'w') as f:\n",
    "    f.write(f'MAE: {mae}\\n')\n",
    "    f.write(f'RMSE: {rmse}\\n')\n",
    "    f.write(f'MAPE: {mape}\\n')\n",
    "    f.write(f'Time Lapsed {time_lapsed_message}\\n')\n",
    "\n",
    "print(f'MAE: {mae}')\n",
    "print(f'RMSE: {rmse}')\n",
    "print(f'MAPE: {mape}')"
   ],
   "id": "9c125ba5e041a77b",
   "outputs": [
    {
     "name": "stdout",
     "output_type": "stream",
     "text": [
      "Time Lapsed = 0:2:50.21211075782776\n",
      "MAE: 0.4059203011648996\n",
      "RMSE: 0.4650096487934881\n",
      "MAPE: 0.01120855723843027\n"
     ]
    }
   ],
   "execution_count": 98
  },
  {
   "metadata": {
    "ExecuteTime": {
     "end_time": "2024-11-20T19:06:10.464816Z",
     "start_time": "2024-11-20T19:06:10.460684Z"
    }
   },
   "cell_type": "code",
   "source": "dates",
   "id": "13bad56618f783b2",
   "outputs": [
    {
     "data": {
      "text/plain": [
       "DatetimeIndex(['2024-10-21 00:00:00+00:00', '2024-10-22 00:00:00+00:00',\n",
       "               '2024-10-23 00:00:00+00:00', '2024-10-24 00:00:00+00:00',\n",
       "               '2024-10-25 00:00:00+00:00', '2024-10-28 00:00:00+00:00',\n",
       "               '2024-10-29 00:00:00+00:00', '2024-10-30 00:00:00+00:00',\n",
       "               '2024-10-31 00:00:00+00:00', '2024-11-01 00:00:00+00:00',\n",
       "               '2024-11-04 00:00:00+00:00', '2024-11-05 00:00:00+00:00',\n",
       "               '2024-11-06 00:00:00+00:00', '2024-11-07 00:00:00+00:00',\n",
       "               '2024-11-08 00:00:00+00:00', '2024-11-11 00:00:00+00:00',\n",
       "               '2024-11-12 00:00:00+00:00', '2024-11-13 00:00:00+00:00',\n",
       "               '2024-11-14 00:00:00+00:00', '2024-11-18 00:00:00+00:00',\n",
       "               '2024-11-19 00:00:00+00:00'],\n",
       "              dtype='datetime64[ns, UTC]', freq=None)"
      ]
     },
     "execution_count": 103,
     "metadata": {},
     "output_type": "execute_result"
    }
   ],
   "execution_count": 103
  },
  {
   "metadata": {
    "ExecuteTime": {
     "end_time": "2024-11-20T18:54:29.227484Z",
     "start_time": "2024-11-20T18:54:29.225486Z"
    }
   },
   "cell_type": "code",
   "source": "",
   "id": "b8fe46d05e33bb73",
   "outputs": [],
   "execution_count": null
  }
 ],
 "metadata": {
  "kernelspec": {
   "display_name": "Python 3",
   "language": "python",
   "name": "python3"
  },
  "language_info": {
   "codemirror_mode": {
    "name": "ipython",
    "version": 2
   },
   "file_extension": ".py",
   "mimetype": "text/x-python",
   "name": "python",
   "nbconvert_exporter": "python",
   "pygments_lexer": "ipython2",
   "version": "2.7.6"
  }
 },
 "nbformat": 4,
 "nbformat_minor": 5
}
